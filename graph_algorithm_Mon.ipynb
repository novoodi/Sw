{
 "cells": [
  {
   "cell_type": "markdown",
   "metadata": {
    "id": "2F2mWQiG2fmq"
   },
   "source": [
    "# # 그래프 표현"
   ]
  },
  {
   "cell_type": "markdown",
   "metadata": {
    "id": "VB3-e4bP2lAh"
   },
   "source": [
    "# # 깊이 우선 탐색(인접 행렬) - 스택"
   ]
  },
  {
   "cell_type": "code",
   "execution_count": 14,
   "metadata": {
    "id": "PHeoAR0r2oJH"
   },
   "outputs": [],
   "source": [
    "# DFS 함수 정의\n",
    "def DFS(vts, adj, s, visited):\n",
    "    # 현재 정점을 방문 처리하고 출력\n",
    "    print(vts[s], end =\" \")\n",
    "    visited[s] = True\n",
    "    # 인접한 모든 정점을 탐색\n",
    "    for v in range(len(vts)):\n",
    "        if adj[s][v] !=0 :\n",
    "            if visited[v] == False:\n",
    "                DFS(vts, adj, v, visited)\n"
   ]
  },
  {
   "cell_type": "code",
   "execution_count": 15,
   "metadata": {
    "id": "x_8jV7tPXmKe"
   },
   "outputs": [
    {
     "name": "stdout",
     "output_type": "stream",
     "text": [
      "DFS(출발점: U): U V W Y X \n"
     ]
    }
   ],
   "source": [
    "# 테스트\n",
    "if __name__ == \"__main__\":\n",
    "    # 테스트용 데이터\n",
    "    vtx = ['U', 'V', 'W', 'X', 'Y']  # 정점 리스트\n",
    "    edge = [\n",
    "        [0, 1, 1, 0, 0],  # U와 인접한 정점들\n",
    "        [1, 0, 1, 1, 0],  # V와 인접한 정점들\n",
    "        [1, 1, 0, 0,1],  # W와 인접한 정점들\n",
    "        [0, 1, 0, 0, 0],  # X와 인접한 정점들\n",
    "        [0, 0, 1, 0, 0]   # Y와 인접한 정점들\n",
    "    ]  # 인접 행렬\n",
    "\n",
    "    # 방문 여부 리스트 초기화\n",
    "    visited = [False] * len(vtx)\n",
    "\n",
    "    # DFS 실행 및 테스트\n",
    "    print(\"DFS(출발점: U): \", end=\"\")\n",
    "    DFS(vtx, edge, 0, visited)  # U 정점에서 시작\n",
    "    print()  # 줄바꿈\n"
   ]
  },
  {
   "cell_type": "markdown",
   "metadata": {
    "id": "_3UrLLYn2ozG"
   },
   "source": [
    "# # 너비 우선 탐색(인접리스트) - 큐"
   ]
  },
  {
   "cell_type": "code",
   "execution_count": 16,
   "metadata": {
    "id": "VbFZW87J2rHx"
   },
   "outputs": [],
   "source": [
    "# BFS 함수 정의\n",
    "from queue import Queue\n",
    "def BFS_AL(vtx, aList, s):\n",
    "    # s는 시작 정점\n",
    "    n = len(vtx)\n",
    "    # 그래프의 점정의 수 \n",
    "    visited = [False]*n \n",
    "    # 방문 확인을 위한 리스트\n",
    "    Q = Queue()\n",
    "    # 비어있는 Queue를 생성\n",
    "    Q.put(s)\n",
    "    # 시작 점정 s를 집어 넣음\n",
    "    visited[s] =True\n",
    "    # s는 방문을 했기 때문에 True를 통해서 방문 했다고 표시함\n",
    "    while not Q.empty() :\n",
    "        # queue가 비어 있지 않을 때\n",
    "        s = Q.get()\n",
    "        print(vtx[s], end=' ')\n",
    "        for v in aList[s]:\n",
    "            if visited[v] == False:\n",
    "                # 만약 방문하지 않은 정점이라면 false를 True로 변경해준다.\n",
    "                Q.put(v)\n",
    "                visited[v] = True"
   ]
  },
  {
   "cell_type": "code",
   "execution_count": 17,
   "metadata": {
    "id": "Aw0vTF1nXx2-"
   },
   "outputs": [
    {
     "name": "stdout",
     "output_type": "stream",
     "text": [
      "BFS(출발점: U): U V W X Y \n"
     ]
    }
   ],
   "source": [
    "\n",
    "# 테스트\n",
    "if __name__ == \"__main__\":\n",
    "    # 정점 리스트와 인접 리스트 정의\n",
    "    vtx = ['U', 'V', 'W', 'X', 'Y']\n",
    "    aList = [\n",
    "        [1, 2],   # U와 연결된 정점들\n",
    "        [0, 3],   # V와 연결된 정점들\n",
    "        [0, 3, 4],# W와 연결된 정점들\n",
    "        [1, 2],   # X와 연결된 정점들\n",
    "        [2]       # Y와 연결된 정점들\n",
    "    ]\n",
    "\n",
    "    # BFS 실행 및 테스트\n",
    "    print(\"BFS(출발점: U): \", end=\"\")\n",
    "    BFS_AL(vtx, aList, 0)  # U 정점에서 BFS 시작\n",
    "    print()  # 줄바꿈"
   ]
  },
  {
   "cell_type": "markdown",
   "metadata": {
    "id": "q0WwaOGx9t8W",
    "jp-MarkdownHeadingCollapsed": true
   },
   "source": [
    "# # 신장트리\n",
    "- DFS을 이용한 신장트리 (인접행렬)"
   ]
  },
  {
   "cell_type": "code",
   "execution_count": 18,
   "metadata": {
    "id": "TOMugvGCAL7t"
   },
   "outputs": [],
   "source": [
    "# DFS를 이용한 신장 트리 생성 함수 정의\n",
    "def ST_DFS(vtx, adj, s, visited):\n",
    "    visited[s] = True\n",
    "    for v in range(len(vtx)) :\n",
    "        if adj[s][v] != 0: # s와 v가 연결 되어 있다면\n",
    "            if visited[v]==False:# v가 방문 되지 않았다면 \n",
    "                print(\"(\", vtx[s], vtx[v], \")\", end = \" \") # 간선을 출력\n",
    "                ST_DFS(vtx, adj, v, visited)# v를 시작지점으로 DFS를 재귀 호출 \n"
   ]
  },
  {
   "cell_type": "code",
   "execution_count": 19,
   "metadata": {
    "id": "99yQKi3vYBJH"
   },
   "outputs": [
    {
     "name": "stdout",
     "output_type": "stream",
     "text": [
      "ST_DFS_AM: ( U V ) ( V X ) ( X W ) ( W Y ) \n"
     ]
    }
   ],
   "source": [
    "# 테스트\n",
    "if __name__ == \"__main__\":\n",
    "    # 정점 리스트와 인접 행렬 정의\n",
    "    vtx = ['U', 'V', 'W', 'X', 'Y']\n",
    "    adj = [\n",
    "        [0, 1, 1, 0, 0],  # U와 연결된 정점들\n",
    "        [1, 0, 0, 1, 0],  # V와 연결된 정점들\n",
    "        [1, 0, 0, 1, 1],  # W와 연결된 정점들\n",
    "        [0, 1, 1, 0, 0],  # X와 연결된 정점들\n",
    "        [0, 0, 1, 0, 0]   # Y와 연결된 정점들\n",
    "    ]\n",
    "\n",
    "    # 방문 여부 리스트 초기화\n",
    "    visited = [False] * len(vtx)\n",
    "\n",
    "    # 신장 트리 생성 및 출력\n",
    "    print(\"ST_DFS_AM: \", end=\"\")\n",
    "    ST_DFS(vtx, adj, 0, visited)  # U 정점에서 시작\n",
    "    print()  # 줄바꿈"
   ]
  },
  {
   "cell_type": "markdown",
   "metadata": {
    "id": "GB4GX4Tykxxu",
    "jp-MarkdownHeadingCollapsed": true
   },
   "source": [
    "# # Prim 알고리즘"
   ]
  },
  {
   "cell_type": "code",
   "execution_count": null,
   "metadata": {
    "id": "T5pMk0lfO4-O"
   },
   "outputs": [],
   "source": [
    "import networkx as nx\n",
    "import matplotlib.pyplot as plt\n",
    "\n",
    "# 상수 정의\n",
    "INF = 999\n",
    "\n",
    "# 초기 그래프와 가중치를 시각화하는 함수\n",
    "def draw_initial_graph(vertex, adj):\n",
    "    G = nx.Graph()\n",
    "    for i in range(len(vertex)):\n",
    "        for j in range(i + 1, len(vertex)):\n",
    "            if adj[i][j] != INF:\n",
    "                G.add_edge(vertex[i], vertex[j], weight=adj[i][j])\n",
    "\n",
    "    pos = nx.spring_layout(G)\n",
    "    plt.figure(figsize=(6, 4))\n",
    "    nx.draw(G, pos, with_labels=True, node_color=\"lightgreen\", node_size=500, font_size=10, font_weight=\"bold\")\n",
    "    nx.draw_networkx_edge_labels(G, pos, edge_labels={(u, v): f\"{d['weight']}\" for u, v, d in G.edges(data=True)})\n",
    "    plt.title(\"Initial Graph with Weights\")\n",
    "    plt.show()\n",
    "\n",
    "def draw_graph(vertex, adj):\n",
    "    # NetworkX 그래프 생성\n",
    "    G = nx.Graph()\n",
    "    for u, v, weight in edges:\n",
    "        G.add_edge(u, v, weight=weight)\n",
    "\n",
    "    # 그래프 그리기\n",
    "    pos = nx.spring_layout(G)  # 노드 위치 설정\n",
    "    plt.figure(figsize=(6, 4))\n",
    "\n",
    "    # MST의 간선을 파란색으로 표시하고 가중치를 추가\n",
    "    nx.draw(G, pos, with_labels=True, node_color='lightblue', node_size=500, font_size=10, font_weight='bold')\n",
    "    nx.draw_networkx_edge_labels(G, pos, edge_labels={(u, v): f'{weight}' for u, v, weight in edges})\n",
    "    plt.title(\"Prim's MST Graph\")\n",
    "    plt.show()\n",
    "\n",
    "# MST에 포함되지 않은 정점 중 최소 거리(dist)를 가지는 정점을 찾는 함수\n",
    "def getMinVertex(dist, selected):\n",
    "\n",
    "\n",
    "# Prim 알고리즘을 사용하여 최소 신장 트리(MST)를 생성하고, 간선 리스트와 최소 비용을 반환하는 함수\n",
    "\n",
    "\n",
    "\n",
    "\n",
    "\n"
   ]
  },
  {
   "cell_type": "code",
   "execution_count": null,
   "metadata": {
    "id": "BRJnba0tcVEA"
   },
   "outputs": [],
   "source": [
    "# 예제 그래프로 함수 테스트\n",
    "if __name__ == \"__main__\":\n",
    "    # 정점 리스트와 가중치 인접 행렬 정의\n",
    "    vertex = ['A', 'B', 'C', 'D', 'E', 'F', 'G']\n",
    "    adj = [\n",
    "        [INF, 25, INF, 12, INF, INF, INF],  # A\n",
    "        [25, INF, 10, INF, 15, INF, INF],   # B\n",
    "        [INF, 10, INF, INF, INF, 16,INF],  # C\n",
    "        [12, INF, INF, INF, 17, INF, 37],   # D\n",
    "        [INF, 15, INF, 17, INF, 14, 19],    # E\n",
    "        [INF, INF, 16, INF, 14, INF, 42],   # F\n",
    "        [INF, INF, INF, 37, 19, 42, INF]    # G\n",
    "    ]\n",
    "\n",
    "    # 초기 그래프 시각화\n",
    "    draw_initial_graph(vertex, adj)\n",
    "\n",
    "    # Prim 알고리즘을 사용하여 MST 생성\n",
    "    print(\"Prim 알고리즘에 의해 생성된 MST:\")\n",
    "    edges, total_cost = MSTPrim(vertex, adj)\n",
    "    print(\"\\nMST 간선 리스트:\", edges)\n",
    "    print(\"최소 비용:\", total_cost)\n",
    "\n",
    "    # NetworkX 그래프 생성\n",
    "    draw_graph(vertex, edges)"
   ]
  },
  {
   "cell_type": "markdown",
   "metadata": {
    "id": "N9vRGuj_5S1Q",
    "jp-MarkdownHeadingCollapsed": true
   },
   "source": [
    "# #. Min Heap 자료구조"
   ]
  },
  {
   "cell_type": "code",
   "execution_count": null,
   "metadata": {
    "colab": {
     "base_uri": "https://localhost:8080/"
    },
    "id": "7-D6D-S1OYA0",
    "outputId": "2c1f157e-0bd7-44c6-8cb4-f56daef8c9c2"
   },
   "outputs": [
    {
     "name": "stdout",
     "output_type": "stream",
     "text": [
      "힙 상태: [1, 3, 8, 5]\n",
      "삭제된 최소값: 1\n",
      "삭제 후 힙 상태: [3, 5, 8]\n"
     ]
    }
   ],
   "source": [
    "import heapq\n",
    "\n",
    "# 빈 리스트를 힙으로 초기화\n",
    "min_heap = []\n",
    "\n",
    "# heapq.heappush를 사용하여 새로운 요소를 추가\n",
    "heapq.heappush(min_heap, 5)\n",
    "heapq.heappush(min_heap, 3)\n",
    "heapq.heappush(min_heap, 8)\n",
    "heapq.heappush(min_heap, 1)\n",
    "\n",
    "print(\"힙 상태:\", min_heap)  # [1, 3, 8, 5] 형태로 최소 힙 구조가 유지.\n",
    "\n",
    "# 최소값을 삭제하려면 heapq.heappop를 사용\n",
    "min_value = heapq.heappop(min_heap)\n",
    "print(\"삭제된 최소값:\", min_value)  # 1\n",
    "print(\"삭제 후 힙 상태:\", min_heap)  # [3, 5, 8] 형태로 재정렬됩니다.\n",
    "\n"
   ]
  },
  {
   "cell_type": "markdown",
   "metadata": {
    "id": "nl6ZohtG93pi",
    "jp-MarkdownHeadingCollapsed": true
   },
   "source": [
    "# # Prim 알고리즘의 성능 개선\n",
    "- 최소 힙(Min-Heap)을 사용하여 코드에서 가장 작은 가중치를 가진 간선을 더 효율적으로 찾도록 수정할 수 있다.\n",
    "-  heapq 라이브러리를 이용하여 최소 힙을 구현하고,\n",
    "- 이를 통해 시간 복잡도를 O(E log V)로 줄일 수 있다.\n",
    "- 아래는 최소 힙을 사용하여 Prim 알고리즘을 구현한 코드입니다."
   ]
  },
  {
   "cell_type": "code",
   "execution_count": null,
   "metadata": {
    "id": "MQa0vEOURz0o"
   },
   "outputs": [],
   "source": [
    "import heapq\n",
    "import networkx as nx\n",
    "import matplotlib.pyplot as plt\n",
    "\n",
    "# 상수 정의\n",
    "INF = 999\n",
    "\n",
    "# 초기 그래프와 가중치를 시각화하는 함수\n",
    "def draw_initial_graph(vertex, adj):\n",
    "    G = nx.Graph()\n",
    "    for i in range(len(vertex)):\n",
    "        for j in range(i + 1, len(vertex)):\n",
    "            if adj[i][j] != INF:\n",
    "                G.add_edge(vertex[i], vertex[j], weight=adj[i][j])\n",
    "\n",
    "    pos = nx.spring_layout(G)\n",
    "    plt.figure(figsize=(6, 4))\n",
    "    nx.draw(G, pos, with_labels=True, node_color=\"lightgreen\", node_size=500, font_size=10, font_weight=\"bold\")\n",
    "    nx.draw_networkx_edge_labels(G, pos, edge_labels={(u, v): f\"{d['weight']}\" for u, v, d in G.edges(data=True)})\n",
    "    plt.title(\"Initial Graph with Weights\")\n",
    "    plt.show()\n",
    "\n",
    "def draw_graph(vertex, adj):\n",
    "    # NetworkX 그래프 생성\n",
    "    G = nx.Graph()\n",
    "    for u, v, weight in edges:\n",
    "        G.add_edge(u, v, weight=weight)\n",
    "\n",
    "    # 그래프 그리기\n",
    "    pos = nx.spring_layout(G)  # 노드 위치 설정\n",
    "    plt.figure(figsize=(6, 4))\n",
    "\n",
    "    # MST의 간선을 파란색으로 표시하고 가중치를 추가\n",
    "    nx.draw(G, pos, with_labels=True, node_color='lightblue', node_size=500, font_size=10, font_weight='bold')\n",
    "    nx.draw_networkx_edge_labels(G, pos, edge_labels={(u, v): f'{weight}' for u, v, weight in edges})\n",
    "    plt.title(\"Prim's MST Graph\")\n",
    "    plt.show()\n",
    "\n",
    "# Prim 알고리즘을 사용하여 최소 신장 트리(MST)를 생성하고, 간선 리스트와 최소 비용을 반환하는 함수\n",
    "\n",
    "\n"
   ]
  },
  {
   "cell_type": "code",
   "execution_count": null,
   "metadata": {
    "id": "GrC_nNvGcfen"
   },
   "outputs": [],
   "source": [
    "# 예제 그래프로 함수 테스트\n",
    "if __name__ == \"__main__\":\n",
    "    # 정점 리스트와 가중치 인접 행렬 정의\n",
    "    vertex = ['A', 'B', 'C', 'D', 'E', 'F', 'G']\n",
    "    adj = [\n",
    "        [INF, 25, INF, 12, INF, INF, INF],  # A\n",
    "        [25, INF, 10, INF, 15, INF, INF],   # B\n",
    "        [INF, 10, INF, INF, INF, 16,INF],  # C\n",
    "        [12, INF, INF, INF, 17, INF, 37],   # D\n",
    "        [INF, 15, INF, 17, INF, 14, 19],    # E\n",
    "        [INF, INF, 16, INF, 14, INF, 42],   # F\n",
    "        [INF, INF, INF, 37, 19, 42, INF]    # G\n",
    "    ]\n",
    "\n",
    "    # 초기 그래프 시각화\n",
    "    draw_initial_graph(vertex, adj)\n",
    "\n",
    "    # Prim 알고리즘을 사용하여 MST 생성\n",
    "    print(\"Prim 알고리즘에 의해 생성된 MST:\")\n",
    "    edges, total_cost = MSTPrim(vertex, adj)\n",
    "    print(\"\\nMST 간선 리스트:\", edges)\n",
    "    print(\"최소 비용:\", total_cost)\n",
    "\n",
    "    # NetworkX 그래프 생성\n",
    "    G = nx.Graph()\n",
    "    for u, v, weight in edges:\n",
    "        G.add_edge(u, v, weight=weight)\n",
    "\n",
    "    # 그래프 그리기\n",
    "    pos = nx.spring_layout(G)  # 노드 위치 설정\n",
    "    plt.figure(figsize=(6, 4))\n",
    "\n",
    "    # MST의 간선을 파란색으로 표시하고 가중치를 추가\n",
    "    nx.draw(G, pos, with_labels=True, node_color='lightblue', node_size=500, font_size=10, font_weight='bold')\n",
    "    nx.draw_networkx_edge_labels(G, pos, edge_labels={(u, v): f'{weight}' for u, v, weight in edges})\n",
    "    plt.title(\"Prim's MST Graph with Min-Heap\")\n",
    "    plt.show()"
   ]
  }
 ],
 "metadata": {
  "colab": {
   "provenance": []
  },
  "kernelspec": {
   "display_name": "Python 3 (ipykernel)",
   "language": "python",
   "name": "python3"
  },
  "language_info": {
   "codemirror_mode": {
    "name": "ipython",
    "version": 3
   },
   "file_extension": ".py",
   "mimetype": "text/x-python",
   "name": "python",
   "nbconvert_exporter": "python",
   "pygments_lexer": "ipython3",
   "version": "3.12.4"
  }
 },
 "nbformat": 4,
 "nbformat_minor": 4
}
