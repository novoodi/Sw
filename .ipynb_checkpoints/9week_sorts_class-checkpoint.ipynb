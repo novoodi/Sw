{
 "cells": [
  {
   "cell_type": "markdown",
   "metadata": {
    "id": "Z19L9ivdsecm"
   },
   "source": [
    "# #. 비교 기반 정렬 알고리즘:\n",
    "- 선택 정렬\n",
    "- 삽입 정렬\n",
    "- 퀵 정렬"
   ]
  },
  {
   "cell_type": "markdown",
   "metadata": {
    "id": "18c_2G-nwoS5"
   },
   "source": [
    "# 1. Selection Sort"
   ]
  },
  {
   "cell_type": "code",
   "execution_count": 6,
   "metadata": {
    "id": "2e8f0X7hxtGR"
   },
   "outputs": [],
   "source": [
    "#=========================================================\n",
    "# 코드 6.1: 선택 정렬 알고리즘(제자리 정렬 방식)\n",
    "def selection_sort(A):\n",
    "    n = len(A)\n",
    "    for i in range(0,n-1,1):\n",
    "        # i부터 정렬되지 않은 부분의 시작 인덱스를 0부터 n-1까지 순서대로 대입한다.\n",
    "        least = i\n",
    "        for j in range(i+1, n):\n",
    "            if(A[j]<A[least]):\n",
    "                least = j\n",
    "                # 이 과정이 모두 끝나면 least에 있는 값이 가장 작은 값이다.\n",
    "        A[i], A[least] = A[least], A[i] # temp랑 같은거임\n",
    "        # 해당 과정을 통해서 가장 작은 값을 i번재에 있는 값과 교환 \n",
    "        # 이 과정을 n-1번 진행하면 정렬이 완료됨\n",
    "        print(\"Step %2d = \" %(i+1), A)\n",
    "\n"
   ]
  },
  {
   "cell_type": "code",
   "execution_count": 7,
   "metadata": {
    "id": "sxNuDwPV2RXU"
   },
   "outputs": [
    {
     "name": "stdout",
     "output_type": "stream",
     "text": [
      "\n",
      "선택정렬 테스트\n",
      "Original  : [6, 3, 7, 4, 9, 1, 5, 2, 8]\n",
      "Step  1 =  [1, 3, 7, 4, 9, 6, 5, 2, 8]\n",
      "Step  2 =  [1, 2, 7, 4, 9, 6, 5, 3, 8]\n",
      "Step  3 =  [1, 2, 3, 4, 9, 6, 5, 7, 8]\n",
      "Step  4 =  [1, 2, 3, 4, 9, 6, 5, 7, 8]\n",
      "Step  5 =  [1, 2, 3, 4, 5, 6, 9, 7, 8]\n",
      "Step  6 =  [1, 2, 3, 4, 5, 6, 9, 7, 8]\n",
      "Step  7 =  [1, 2, 3, 4, 5, 6, 7, 9, 8]\n",
      "Step  8 =  [1, 2, 3, 4, 5, 6, 7, 8, 9]\n",
      "selection : [1, 2, 3, 4, 5, 6, 7, 8, 9]\n"
     ]
    }
   ],
   "source": [
    "# 코드 6.2: 선택 정렬 테스트 프로그램\n",
    "print(\"\\n선택정렬 테스트\")\n",
    "data = [6,3,7,4,9,1,5,2,8]\n",
    "print(\"Original  :\", data)\n",
    "selection_sort(data)\n",
    "print(\"selection :\" ,data)"
   ]
  },
  {
   "cell_type": "markdown",
   "metadata": {
    "id": "9wVNP3T43PHt"
   },
   "source": [
    "###\n",
    "코드 수정\n",
    "\n",
    "\n"
   ]
  },
  {
   "cell_type": "code",
   "execution_count": 8,
   "metadata": {
    "id": "Xp5Z4MFE15yb"
   },
   "outputs": [],
   "source": [
    "# 정렬에 사용된 비교 연산 횟수와 교환 연산 횟수를 추적하기 위해 comparison_count와 swap_count 변수를 추가해 수정\n",
    "def selection_sort_modify(A):\n",
    "    n = len(A)\n",
    "    comparison_count = 0\n",
    "    swap_count = 0\n",
    "    for i in range(0,n-1,1):\n",
    "        least = i\n",
    "        for j in range(i+1, n):\n",
    "            # 몇 번의 비교 연산이 이루어 졌는지를 확인한다.\n",
    "            comparison_count +=1\n",
    "            if(A[j]<A[least]):\n",
    "                least = j\n",
    "\n",
    "        if i != least: # 같은 위치일 경우 swap하지 않는다.\n",
    "            A[i], A[least] = A[least], A[i] # temp랑 같은거임\n",
    "            swap_count +=1 # swap이 진행 됐기 때문에 하나 증가\n",
    "        print(\"Step %2d = \" %(i+1), A) #각 단계별 출력\n",
    "    print(f\"총 비교연산횟수: {comparison_count}\")\n",
    "    print(f\"총 교한연산횟수: {swap_count}\")\n"
   ]
  },
  {
   "cell_type": "code",
   "execution_count": 9,
   "metadata": {
    "id": "CjkU-L0nkcFE"
   },
   "outputs": [
    {
     "name": "stdout",
     "output_type": "stream",
     "text": [
      "\n",
      "선택정렬 테스트\n",
      "Original  : [6, 3, 7, 4, 9, 1, 5, 2, 8]\n",
      "Step  1 =  [1, 3, 7, 4, 9, 6, 5, 2, 8]\n",
      "Step  2 =  [1, 2, 7, 4, 9, 6, 5, 3, 8]\n",
      "Step  3 =  [1, 2, 3, 4, 9, 6, 5, 7, 8]\n",
      "Step  4 =  [1, 2, 3, 4, 9, 6, 5, 7, 8]\n",
      "Step  5 =  [1, 2, 3, 4, 5, 6, 9, 7, 8]\n",
      "Step  6 =  [1, 2, 3, 4, 5, 6, 9, 7, 8]\n",
      "Step  7 =  [1, 2, 3, 4, 5, 6, 7, 9, 8]\n",
      "Step  8 =  [1, 2, 3, 4, 5, 6, 7, 8, 9]\n",
      "총 비교연산횟수: 36\n",
      "총 교한연산횟수: 6\n",
      "selection : [1, 2, 3, 4, 5, 6, 7, 8, 9]\n"
     ]
    }
   ],
   "source": [
    "# 코드 6.2: 선택 정렬 테스트 프로그램\n",
    "print(\"\\n선택정렬 테스트\")\n",
    "data = [6,3,7,4,9,1,5,2,8]\n",
    "print(\"Original  :\", data)\n",
    "selection_sort_modify(data)\n",
    "print(\"selection :\" ,data)"
   ]
  },
  {
   "cell_type": "code",
   "execution_count": 21,
   "metadata": {
    "id": "3UMx_xr--ICE"
   },
   "outputs": [
    {
     "name": "stdout",
     "output_type": "stream",
     "text": [
      "Step  1 =  [(1, 'b'), (3, 'a'), (4, 'c'), (1, 'd'), (5, 'e'), (9, 'f'), (2, 'g'), (6, 'h'), (5, 'i'), (3, 'j')]\n",
      "Step  2 =  [(1, 'b'), (1, 'd'), (4, 'c'), (3, 'a'), (5, 'e'), (9, 'f'), (2, 'g'), (6, 'h'), (5, 'i'), (3, 'j')]\n",
      "Step  3 =  [(1, 'b'), (1, 'd'), (2, 'g'), (3, 'a'), (5, 'e'), (9, 'f'), (4, 'c'), (6, 'h'), (5, 'i'), (3, 'j')]\n",
      "Step  4 =  [(1, 'b'), (1, 'd'), (2, 'g'), (3, 'a'), (5, 'e'), (9, 'f'), (4, 'c'), (6, 'h'), (5, 'i'), (3, 'j')]\n",
      "Step  5 =  [(1, 'b'), (1, 'd'), (2, 'g'), (3, 'a'), (3, 'j'), (9, 'f'), (4, 'c'), (6, 'h'), (5, 'i'), (5, 'e')]\n",
      "Step  6 =  [(1, 'b'), (1, 'd'), (2, 'g'), (3, 'a'), (3, 'j'), (4, 'c'), (9, 'f'), (6, 'h'), (5, 'i'), (5, 'e')]\n",
      "Step  7 =  [(1, 'b'), (1, 'd'), (2, 'g'), (3, 'a'), (3, 'j'), (4, 'c'), (5, 'i'), (6, 'h'), (9, 'f'), (5, 'e')]\n",
      "Step  8 =  [(1, 'b'), (1, 'd'), (2, 'g'), (3, 'a'), (3, 'j'), (4, 'c'), (5, 'i'), (5, 'e'), (9, 'f'), (6, 'h')]\n",
      "Step  9 =  [(1, 'b'), (1, 'd'), (2, 'g'), (3, 'a'), (3, 'j'), (4, 'c'), (5, 'i'), (5, 'e'), (6, 'h'), (9, 'f')]\n"
     ]
    }
   ],
   "source": [
    "# 예: selection sort가 안정적인 정렬 알고리즘이 아님\n",
    "# 테스트 예시: 중복 값이 있는 배열\n",
    "A = [(3, 'a'), (1, 'b'), (4, 'c'), (1, 'd'), (5, 'e'), (9, 'f'), (2, 'g'), (6, 'h'), (5, 'i'), (3, 'j')]\n",
    "def selection_sort(A):\n",
    "    n = len(A)\n",
    "    for i in range(0,n-1,1):\n",
    "        least = i\n",
    "        for j in range(i+1, n):\n",
    "            if(A[j][0]<A[least][0]):\n",
    "                least = j\n",
    "        if i != least:\n",
    "            A[i], A[least] = A[least], A[i] # temp랑 같은거임\n",
    "        print(\"Step %2d = \" %(i+1), A)\n",
    "\n",
    "selection_sort(A)"
   ]
  },
  {
   "cell_type": "code",
   "execution_count": 11,
   "metadata": {
    "id": "eVAKdpPACvbu"
   },
   "outputs": [
    {
     "name": "stdout",
     "output_type": "stream",
     "text": [
      "Random scores generated and saved to C:\\Users/navoodi/Downloads/scores.txt\n",
      "Before sorting: [35, 75, 79, 9, 37]\n",
      "Step  1 =  [9, 75, 79, 35, 37]\n",
      "Step  2 =  [9, 35, 79, 75, 37]\n",
      "Step  3 =  [9, 35, 37, 75, 79]\n",
      "Step  4 =  [9, 35, 37, 75, 79]\n",
      "After sorting: [9, 35, 37, 75, 79]\n"
     ]
    }
   ],
   "source": [
    "# 0에서 100 사이의 랜덤 점수 10개를 생성하여 scores.txt 파일에 저장한 다음\n",
    "# 이 파일을 읽어와 정렬한 후 sorted_scores.txt 파일에 저장하는 코드\n",
    "import random\n",
    "def generate_random_scores(filename, count = 5, min_score = 0, max_score = 100):\n",
    "    with open (filename, 'w') as file:\n",
    "        for _ in range(count):\n",
    "            score = random.randint(min_score,max_score)\n",
    "            file.write(f\"{score}\\n\")\n",
    "def read_scores(filename):\n",
    "    with open (filename, 'r') as file:\n",
    "        scores = [int(line.strip()) for line in file] # strip -> 공백을 지움\n",
    "    return scores\n",
    "def write_scores(filename, scores):\n",
    "    with open (filename, 'w') as file:\n",
    "        for score in scores:\n",
    "            file.write(f\"{score}\\n\")\n",
    "def selection_sort(A):\n",
    "    n = len(A)\n",
    "    for i in range(0,n-1,1):\n",
    "        least = i\n",
    "        for j in range(i+1, n):\n",
    "            if(A[j]<A[least]):\n",
    "                least = j\n",
    "        if i != least:\n",
    "            A[i], A[least] = A[least], A[i] # temp랑 같은거임\n",
    "        print(\"Step %2d = \" %(i+1), A)\n",
    "\n",
    "\n",
    "def main():\n",
    "    input_filename = 'C:\\\\Users/navoodi/Downloads/scores.txt'\n",
    "    output_filename = 'C:\\\\Users/navoodi/Downloads/sorted_scores.txt'\n",
    "\n",
    "    # 랜덤 점수 생성 후 파일에 저장\n",
    "    generate_random_scores(input_filename)\n",
    "    print(\"Random scores generated and saved to\", input_filename)\n",
    "\n",
    "    # 점수 읽기\n",
    "    scores = read_scores(input_filename)\n",
    "    print(\"Before sorting:\", scores)\n",
    "\n",
    "    # 정렬 수행\n",
    "    selection_sort(scores)\n",
    "    print(\"After sorting:\", scores)\n",
    "\n",
    "    # 정렬된 점수 파일에 쓰기\n",
    "    write_scores(output_filename, scores)\n",
    "\n",
    "if __name__ == \"__main__\":\n",
    "    main()\n"
   ]
  },
  {
   "cell_type": "markdown",
   "metadata": {
    "id": "j8N7iE7j16sV"
   },
   "source": [
    "# 2. Insertion Sort"
   ]
  },
  {
   "cell_type": "code",
   "execution_count": 12,
   "metadata": {
    "id": "coTpO5Q_2Ep8"
   },
   "outputs": [],
   "source": [
    "#=========================================================\n",
    "# 코드 6.3: 삽입 정렬 알고리즘\n",
    "def insertion_sort(A):\n",
    "    n = len(A)\n",
    "    for i in range(1, n):\n",
    "        # 삽입할 요소를 미리 key 값에 저장해줌\n",
    "        # 이를 인댁스 번호로 보면 1임\n",
    "        key = A[i]\n",
    "        # j는 i보다 하나 작은 값으로 인덱스 번호로 치면 0이다\n",
    "        j = i-1\n",
    "        # i-1의 값부터 위에서 말한대로면 0부터이다.\n",
    "        while j>=0 and A[j]> key:\n",
    "        # j의 크기 만큼 while 문을 작동시킨다. \n",
    "        # 이때 A[j]의 값이 A[i]의 값보다 크다면 j의 값을 하나 증가시킨다.\n",
    "            A[j+1] = A[j]\n",
    "            # 실제 j의 값을 하나 줄여준다. 이유는 다음 j가 i보다 작은 지 비교하기 위해서 \n",
    "            j -= 1\n",
    "        # j와 i의 위치를 바꾸는 작업이다.\n",
    "        # 만일 위에서 i보다 큰 값이 없다면 위치는 변환되지 않고 다음 순서로 넘어간다.\n",
    "        A[j+1] = key\n",
    "        \n",
    "        print(\"Step %2d = \" %(i), A)\n",
    "\n"
   ]
  },
  {
   "cell_type": "code",
   "execution_count": 13,
   "metadata": {
    "colab": {
     "base_uri": "https://localhost:8080/"
    },
    "id": "dcFoD10_vydA",
    "outputId": "d96a3175-88a8-4899-f6d6-a883cdcc8142"
   },
   "outputs": [
    {
     "name": "stdout",
     "output_type": "stream",
     "text": [
      "\n",
      "선택정렬 테스트\n",
      "Original  : [31, 41, 59, 26, 41, 58]\n",
      "Step  1 =  [31, 41, 59, 26, 41, 58]\n",
      "Step  2 =  [31, 41, 59, 26, 41, 58]\n",
      "Step  3 =  [26, 31, 41, 59, 41, 58]\n",
      "Step  4 =  [26, 31, 41, 41, 59, 58]\n",
      "Step  5 =  [26, 31, 41, 41, 58, 59]\n",
      "selection : [26, 31, 41, 41, 58, 59]\n"
     ]
    }
   ],
   "source": [
    "# 테스트 예시\n",
    "print(\"\\n선택정렬 테스트\")\n",
    "A = [31, 41, 59, 26, 41, 58]\n",
    "print(\"Original  :\", A)\n",
    "insertion_sort(A)\n",
    "print(\"selection :\" ,A)"
   ]
  },
  {
   "cell_type": "markdown",
   "metadata": {
    "id": "uU_GHutEPgoU"
   },
   "source": [
    "###\n",
    "코드 수정"
   ]
  },
  {
   "cell_type": "code",
   "execution_count": 14,
   "metadata": {
    "id": "jW-9sgM5Pir7"
   },
   "outputs": [],
   "source": [
    "# 삽입 정렬에 사용된 비교 연산 횟수와 교환 연산 횟수를 추적하기 위해 comparison_count 와 swap_count 변수를 추가해 수정\n",
    "def insertion_sort_modify(A):\n",
    "    n = len(A)\n",
    "    comparison_count = 0 # 비교연산\n",
    "    move_count = 0       # 이동연산\n",
    "    for i in range(1, n):\n",
    "        key = A[i]\n",
    "        j = i-1\n",
    "        while j>=0 and A[j]> key:\n",
    "            comparison_count +=1\n",
    "            A[j+1] = A[j] # 뒤로 한칸 옮김 \n",
    "            j -= 1\n",
    "            move_count +=1\n",
    "        A[j+1] = key\n",
    "        if j >=0:\n",
    "            comparison_count += 1\n",
    "        print(\"Step %2d = \" %(i), A)\n",
    "    print(f\"총 비교연산횟수: {comparison_count}\")\n",
    "    print(f\"총 이동연산횟수: {move_count}\")\n",
    "    print(f\"총 연산횟수    : {comparison_count+move_count}\")\n",
    "\n",
    "\n"
   ]
  },
  {
   "cell_type": "code",
   "execution_count": 15,
   "metadata": {
    "colab": {
     "base_uri": "https://localhost:8080/"
    },
    "id": "m57lNd1dwcgT",
    "outputId": "9176eacb-ab40-42f8-8930-157f7966ae5f"
   },
   "outputs": [
    {
     "name": "stdout",
     "output_type": "stream",
     "text": [
      "Step  1 =  [31, 41, 59, 26, 41, 58]\n",
      "Step  2 =  [31, 41, 59, 26, 41, 58]\n",
      "Step  3 =  [26, 31, 41, 59, 41, 58]\n",
      "Step  4 =  [26, 31, 41, 41, 59, 58]\n",
      "Step  5 =  [26, 31, 41, 41, 58, 59]\n",
      "총 비교연산횟수: 9\n",
      "총 이동연산횟수: 5\n",
      "총 연산횟수    : 14\n"
     ]
    }
   ],
   "source": [
    "# 테스트 예시\n",
    "A = [31, 41, 59, 26, 41, 58]\n",
    "insertion_sort_modify(A)"
   ]
  },
  {
   "cell_type": "markdown",
   "metadata": {
    "id": "BZwAPcY4xuW3"
   },
   "source": [
    "# 3. Quick Sort"
   ]
  },
  {
   "cell_type": "code",
   "execution_count": 16,
   "metadata": {
    "id": "hw49YNEqx5Lf"
   },
   "outputs": [],
   "source": [
    "#=========================================================\n",
    "# 코드 6.4: 퀵 정렬 알고리즘\n",
    "def quick_sort(A, left, right):\n",
    "    if left<right:\n",
    "        q = partition(A, left, right)\n",
    "        # 피벗을 중심으로 두 부분을 분할하고 피벗의 위치 q를 구함\n",
    "        # 해당 코드의 경우 인덱스 0 즉, 첫번째 값이 피벗임\n",
    "        quick_sort(A, left, q - 1)\n",
    "        # 이후 피벗을 기준으로 왼쪽과 오른쪽을 재귀 함수를 통해서 정렬\n",
    "        quick_sort(A, q + 1, right)\n",
    "# 코드 6.5: 분할 알고리즘\n",
    "def partition(A, left, right):\n",
    "    pivot = A[left] # pivot 설정\n",
    "    # left를 0으로 받기 때문에 초기 피벗은 0 즉, 첫번째 값이 피벗이다.\n",
    "    low = left + 1\n",
    "    # 이후 로우를 left보다 하나 큰 값으로 설정\n",
    "    high = right\n",
    "    # higt를 가장 마지막 값(해당 코드에서는 len-1을 했음)\n",
    "    while(low < high):\n",
    "        # low보다 high의 값이 크면 while 문을 통해서 반복\n",
    "        # 즉, 해당 코드는 low가 high를 역전하면 멈추는 코드로 설계되어있다.\n",
    "        while low <= right and A[low] <= pivot:\n",
    "            # 이때 low가 피벗 보다 작다면 low를 한칸 앞으로 이동\n",
    "            low += 1\n",
    "        # 피벗보다 작은 요소를 찾음\n",
    "        while high >= left and A[high] > pivot:\n",
    "        # high가 피벗보다 크다면 한칸 앞으로 이동\n",
    "            high -=1\n",
    "        if low < high:\n",
    "        # 해당 값이 아니라 인덱스로 봐야 한다 이걸 10분이나 보고 잇네    발\n",
    "            A[low], A[high] = A[high], A[low]\n",
    "    A[left], A[high] = A[high], A[left]\n",
    "    return high\n"
   ]
  },
  {
   "cell_type": "code",
   "execution_count": 17,
   "metadata": {
    "id": "4gwBR-suyPBW"
   },
   "outputs": [
    {
     "name": "stdout",
     "output_type": "stream",
     "text": [
      "Original  :  [5, 3, 8, 4, 9, 1, 6, 2, 7]\n",
      "QuickSort :  [1, 2, 3, 4, 5, 6, 7, 8, 9]\n"
     ]
    }
   ],
   "source": [
    "# 테스트 프로그램\n",
    "data = [ 5, 3, 8, 4, 9, 1, 6, 2, 7]\t\t# 입력 리스트\n",
    "print(\"Original  : \", data)\n",
    "quick_sort(data, 0, len(data)-1)        # 퀵 정렬\n",
    "print(\"QuickSort : \", data)\n"
   ]
  },
  {
   "cell_type": "markdown",
   "metadata": {
    "id": "JDtD26TobKpm"
   },
   "source": [
    "###\n",
    "코드 수정"
   ]
  },
  {
   "cell_type": "code",
   "execution_count": 18,
   "metadata": {
    "id": "eyGCHt4EbNae"
   },
   "outputs": [
    {
     "name": "stdout",
     "output_type": "stream",
     "text": [
      "Original data: [41, 22, 66, 44, 72]\n",
      "Sorted data: [22, 41, 44, 66, 72]\n",
      "Total comparisons: 0\n",
      "Total swaps: 0\n"
     ]
    }
   ],
   "source": [
    "# 퀵 정렬에 사용된 비교 연산 횟수와 교환 연산 횟수를 추적하기 위해 comparison_count와 swap_count 변수를 추가해 수정\n",
    "# 테스트 프로그램에서 랜덤 데이터를 생성하고 정렬을 테스트\n",
    "\n",
    "\n",
    "def main():\n",
    "    global comparison_count, swap_count\n",
    "\n",
    "    # 랜덤 데이터 생성\n",
    "    data = generate_random_data()\n",
    "    print(\"Original data:\", data)\n",
    "\n",
    "    # 비교 및 교환 연산 카운트 초기화\n",
    "    comparison_count = 0\n",
    "    swap_count = 0\n",
    "\n",
    "    # 퀵 정렬 수행\n",
    "    quick_sort(data, 0, len(data) - 1)\n",
    "    print(\"Sorted data:\", data)\n",
    "    print(f\"Total comparisons: {comparison_count}\")\n",
    "    print(f\"Total swaps: {swap_count}\")\n",
    "\n",
    "if __name__ == \"__main__\":\n",
    "    main()\n"
   ]
  },
  {
   "cell_type": "code",
   "execution_count": 31,
   "metadata": {
    "id": "6_vB5hbUb7DX"
   },
   "outputs": [
    {
     "name": "stdout",
     "output_type": "stream",
     "text": [
      "Original data: [62, 26, 19, 54, 26, 48, 80, 37, 87, 52]\n",
      "\n",
      "step 1: Sorting range A[0:10] -> [62, 26, 19, 54, 26, 48, 80, 37, 87, 52]\n",
      "Swapped A[6] and A[9] -> [62, 26, 19, 54, 26, 48, 52, 37, 87, 80]\n",
      "Partitoned at index 7, pivot placed at A[7] -> 62\n",
      "Current list: [37, 26, 19, 54, 26, 48, 52, 62, 87, 80]\n",
      "\n",
      "step 2: Sorting range A[0:7] -> [37, 26, 19, 54, 26, 48, 52]\n",
      "Swapped A[3] and A[4] -> [37, 26, 19, 26, 54, 48, 52, 62, 87, 80]\n",
      "Partitoned at index 3, pivot placed at A[3] -> 37\n",
      "Current list: [26, 26, 19, 37, 54, 48, 52, 62, 87, 80]\n",
      "\n",
      "step 3: Sorting range A[0:3] -> [26, 26, 19]\n",
      "Partitoned at index 2, pivot placed at A[2] -> 26\n",
      "Current list: [19, 26, 26, 37, 54, 48, 52, 62, 87, 80]\n",
      "\n",
      "step 4: Sorting range A[0:2] -> [19, 26]\n",
      "Partitoned at index 1, pivot placed at A[1] -> 19\n",
      "Current list: [26, 19, 26, 37, 54, 48, 52, 62, 87, 80]\n",
      "\n",
      "step 5: Sorting range A[4:7] -> [54, 48, 52]\n",
      "Partitoned at index 6, pivot placed at A[6] -> 54\n",
      "Current list: [26, 19, 26, 37, 52, 48, 54, 62, 87, 80]\n",
      "\n",
      "step 6: Sorting range A[4:6] -> [52, 48]\n",
      "Partitoned at index 5, pivot placed at A[5] -> 52\n",
      "Current list: [26, 19, 26, 37, 48, 52, 54, 62, 87, 80]\n",
      "\n",
      "step 7: Sorting range A[8:10] -> [87, 80]\n",
      "Partitoned at index 9, pivot placed at A[9] -> 87\n",
      "Current list: [26, 19, 26, 37, 48, 52, 54, 62, 80, 87]\n",
      "\n",
      "Sorted data: [26, 19, 26, 37, 48, 52, 54, 62, 80, 87]\n",
      "Total comparisons: 19\n",
      "Total swaps: 9\n"
     ]
    }
   ],
   "source": [
    "# 퀵 정렬에 사용된 비교 연산 횟수와 교환 연산 횟수를 추적하기 위해 comparison_count와 swap_count 변수를 추가해 수정\n",
    "# 테스트 프로그램에서 랜덤 데이터를 생성하고 정렬을 테스트\n",
    "# 각 단계별로 정렬 과정을 출력하기 위해 quick_sort 함수와 partition 함수 내에서 단계별 리스트 상태를 출력하도록 수정\n",
    "# 또한, 각 단계에서 어느 부분을 정렬하고 있는지 확인\n",
    "import random\n",
    "\n",
    "comparison_count = 0\n",
    "swap_count = 0\n",
    "step = 1\n",
    "\n",
    "def quick_sort(A, left, right):\n",
    "    global comparison_count, swap_count, step\n",
    "    if left<right:\n",
    "        print(f\"\\nstep {step}: Sorting range A[{left}:{right+1}] -> {A[left:right + 1]}\")\n",
    "        step +=1\n",
    "        q = partition(A, left, right)\n",
    "        print(f\"Partitoned at index {q}, pivot placed at A[{q}] -> {A[q]}\")\n",
    "        print(\"Current list:\", A)\n",
    "        quick_sort(A, left, q - 1)\n",
    "        quick_sort(A, q + 1, right)\n",
    "# 코드 6.5: 분할 알고리즘\n",
    "def partition(A, left, right):\n",
    "    global comparison_count, swap_count\n",
    "    pivot = A[left] # pivot 설정\n",
    "    low = left + 1\n",
    "    high = right\n",
    "    while(low < high):\n",
    "        # 피벗보다 큰 요소를 찾음\n",
    "        while low <= right and A[low] <= pivot:\n",
    "            low += 1\n",
    "            comparison_count += 1\n",
    "        # 피벗보다 작은 요소를 찾음\n",
    "        while high >= left and A[high] > pivot:\n",
    "            high -=1\n",
    "            comparison_count += 1\n",
    "        if low < high:\n",
    "            A[low], A[high] = A[high], A[low]\n",
    "            swap_count += 1\n",
    "            print(f\"Swapped A[{low}] and A[{high}] ->\", A)\n",
    "    A[left], A[high] = A[high], A[left]\n",
    "    swap_count += 1\n",
    "    return high\n",
    "def generate_random_data(size=5, min_val=1, max_val=100):\n",
    "    return [random.randint(min_val, max_val) for _ in range(size)]\n",
    "def main():\n",
    "    global comparison_count, swap_count, step\n",
    "\n",
    "    # 랜덤 데이터 생성\n",
    "    #data = generate_random_data()\n",
    "    data= [62, 26, 19, 54, 26, 48, 80, 37, 87, 52]\n",
    "\n",
    "    print(\"Original data:\", data)\n",
    "\n",
    "    # 비교 및 교환 연산 카운트 초기화\n",
    "    comparison_count = 0\n",
    "    swap_count = 0\n",
    "    step = 1\n",
    "\n",
    "    # 퀵 정렬 수행\n",
    "    quick_sort(data, 0, len(data) - 1)\n",
    "    print(\"\\nSorted data:\", data)\n",
    "    print(f\"Total comparisons: {comparison_count}\")\n",
    "    print(f\"Total swaps: {swap_count}\")\n",
    "\n",
    "if __name__ == \"__main__\":\n",
    "    main()"
   ]
  },
  {
   "cell_type": "markdown",
   "metadata": {
    "id": "ag_Ynuw_swSv"
   },
   "source": [
    "# #. 비 비교 기반 정렬 알고리즘\n",
    "- 기수 정렬 : 배분 기반 정렬\n",
    "- 계수 정렬 : 빈도 기반 정렬"
   ]
  },
  {
   "cell_type": "code",
   "execution_count": 32,
   "metadata": {},
   "outputs": [
    {
     "name": "stdout",
     "output_type": "stream",
     "text": [
      "Original data: [62, 26, 19, 54, 26, 48, 80, 37, 87, 52]\n",
      "\n",
      "step 1: Sorting range A[0:10] -> [62, 26, 19, 54, 26, 48, 80, 37, 87, 52]\n",
      "Swapped A[3] and A[7] -> [52, 26, 19, 37, 26, 48, 80, 54, 87, 62]\n",
      "Partitioned at index 5, pivot placed at A[5] -> 52\n",
      "Current list: [48, 26, 19, 37, 26, 52, 80, 54, 87, 62]\n",
      "\n",
      "step 2: Sorting range A[0:5] -> [48, 26, 19, 37, 26]\n",
      "Partitioned at index 2, pivot placed at A[2] -> 26\n",
      "Current list: [19, 26, 26, 37, 48, 52, 80, 54, 87, 62]\n",
      "\n",
      "step 3: Sorting range A[0:2] -> [19, 26]\n",
      "Partitioned at index 0, pivot placed at A[0] -> 19\n",
      "Current list: [19, 26, 26, 37, 48, 52, 80, 54, 87, 62]\n",
      "\n",
      "step 4: Sorting range A[3:5] -> [37, 48]\n",
      "Partitioned at index 3, pivot placed at A[3] -> 37\n",
      "Current list: [19, 26, 26, 37, 48, 52, 80, 54, 87, 62]\n",
      "\n",
      "step 5: Sorting range A[6:10] -> [80, 54, 87, 62]\n",
      "Partitioned at index 7, pivot placed at A[7] -> 62\n",
      "Current list: [19, 26, 26, 37, 48, 52, 54, 62, 87, 80]\n",
      "\n",
      "step 6: Sorting range A[8:10] -> [87, 80]\n",
      "Partitioned at index 8, pivot placed at A[8] -> 80\n",
      "Current list: [19, 26, 26, 37, 48, 52, 54, 62, 80, 87]\n",
      "\n",
      "Sorted data: [19, 26, 26, 37, 48, 52, 54, 62, 80, 87]\n",
      "Total comparisons: 19\n",
      "Total swaps: 7\n"
     ]
    }
   ],
   "source": [
    "import random\n",
    "\n",
    "# 비교와 교환 연산 횟수를 저장할 전역 변수\n",
    "comparison_count = 0\n",
    "swap_count = 0\n",
    "step = 1  # 단계별 출력에 사용할 변수\n",
    "\n",
    "# left, mid, right 위치의 값 중 중간값을 left에 위치시키고, 이 값을 피벗으로 반환\n",
    "def median_of_three(A, left, right):\n",
    "    mid = (left + right) // 2\n",
    "    # 세 값 중 중간값을 선택하기 위해 위치를 정렬\n",
    "    if A[left] > A[mid]:\n",
    "        A[left], A[mid] = A[mid], A[left]\n",
    "    if A[left] > A[right]:\n",
    "        A[left], A[right] = A[right], A[left]\n",
    "    if A[mid] > A[right]:\n",
    "        A[mid], A[right] = A[right], A[mid]\n",
    "    # 중간값으로 선택한 피벗을 리스트의 첫 번째 위치로 이동\n",
    "    A[left], A[mid] = A[mid], A[left]\n",
    "    return A[left]  # 피벗 값 반환\n",
    "\n",
    "def quick_sort(A, left, right):\n",
    "    global comparison_count, swap_count, step\n",
    "    if left < right:\n",
    "        print(f\"\\nstep {step}: Sorting range A[{left}:{right+1}] -> {A[left:right + 1]}\")\n",
    "        step += 1\n",
    "        pivot = median_of_three(A, left, right)  # 피벗을 median_of_three로 설정\n",
    "        q = partition(A, left, right, pivot)\n",
    "        print(f\"Partitioned at index {q}, pivot placed at A[{q}] -> {A[q]}\")\n",
    "        print(\"Current list:\", A)\n",
    "        quick_sort(A, left, q - 1)\n",
    "        quick_sort(A, q + 1, right)\n",
    "\n",
    "# 분할 알고리즘\n",
    "def partition(A, left, right, pivot):\n",
    "    global comparison_count, swap_count\n",
    "    low = left + 1\n",
    "    high = right\n",
    "\n",
    "    while True:\n",
    "        # 피벗보다 큰 요소를 찾음\n",
    "        while low <= right and A[low] <= pivot:\n",
    "            low += 1\n",
    "            comparison_count += 1\n",
    "        # 피벗보다 작은 요소를 찾음\n",
    "        while high >= left + 1 and A[high] > pivot:\n",
    "            high -= 1\n",
    "            comparison_count += 1\n",
    "        if low < high:\n",
    "            A[low], A[high] = A[high], A[low]\n",
    "            swap_count += 1\n",
    "            print(f\"Swapped A[{low}] and A[{high}] ->\", A)\n",
    "        else:\n",
    "            break\n",
    "\n",
    "    A[left], A[high] = A[high], A[left]\n",
    "    swap_count += 1\n",
    "    return high\n",
    "\n",
    "def main():\n",
    "    global comparison_count, swap_count, step\n",
    "\n",
    "    # 랜덤 데이터 생성\n",
    "    data = [62, 26, 19, 54, 26, 48, 80, 37, 87, 52]\n",
    "    print(\"Original data:\", data)\n",
    "\n",
    "    # 비교 및 교환 연산 카운트 초기화\n",
    "    comparison_count = 0\n",
    "    swap_count = 0\n",
    "    step = 1\n",
    "\n",
    "    # 퀵 정렬 수행\n",
    "    quick_sort(data, 0, len(data) - 1)\n",
    "    print(\"\\nSorted data:\", data)\n",
    "    print(f\"Total comparisons: {comparison_count}\")\n",
    "    print(f\"Total swaps: {swap_count}\")\n",
    "\n",
    "if __name__ == \"__main__\":\n",
    "    main()\n"
   ]
  },
  {
   "cell_type": "markdown",
   "metadata": {
    "id": "mOI-fMiTVr0c"
   },
   "source": [
    "# 1. radix sort"
   ]
  },
  {
   "cell_type": "markdown",
   "metadata": {
    "id": "orMsLv2e9c41"
   },
   "source": [
    "###\n",
    "코드 수정"
   ]
  },
  {
   "cell_type": "code",
   "execution_count": 41,
   "metadata": {
    "id": "c8c2z_IeyDaY"
   },
   "outputs": [
    {
     "name": "stdout",
     "output_type": "stream",
     "text": [
      "\n",
      "Sorting by digit at place 1\n",
      "Enqueued 170 in bucket 0\n",
      "Enqueued 45 in bucket 5\n",
      "Enqueued 75 in bucket 5\n",
      "Enqueued 90 in bucket 0\n",
      "Enqueued 802 in bucket 2\n",
      "Enqueued 24 in bucket 4\n",
      "Enqueued 2 in bucket 2\n",
      "Enqueued 66 in bucket 6\n",
      "After sorting by digit 1, array :[170, 90, 802, 2, 24, 45, 75, 66]\n",
      "\n",
      "Sorting by digit at place 10\n",
      "Enqueued 170 in bucket 7\n",
      "Enqueued 90 in bucket 9\n",
      "Enqueued 802 in bucket 0\n",
      "Enqueued 2 in bucket 0\n",
      "Enqueued 24 in bucket 2\n",
      "Enqueued 45 in bucket 4\n",
      "Enqueued 75 in bucket 7\n",
      "Enqueued 66 in bucket 6\n",
      "After sorting by digit 10, array :[802, 2, 24, 45, 66, 170, 75, 90]\n",
      "\n",
      "Sorting by digit at place 100\n",
      "Enqueued 802 in bucket 8\n",
      "Enqueued 2 in bucket 0\n",
      "Enqueued 24 in bucket 0\n",
      "Enqueued 45 in bucket 0\n",
      "Enqueued 66 in bucket 0\n",
      "Enqueued 170 in bucket 1\n",
      "Enqueued 75 in bucket 0\n",
      "Enqueued 90 in bucket 0\n",
      "After sorting by digit 100, array :[2, 24, 45, 66, 75, 90, 170, 802]\n",
      "\n",
      "final sorted array: [2, 24, 45, 66, 75, 90, 170, 802]\n"
     ]
    }
   ],
   "source": [
    "# 각 단계별 정렬 과정을 출력하기 위해 radix_sort 함수에서 각 자릿수별로 원형 큐에 데이터를 넣고,\n",
    "# 배열로 값을 다시 꺼낼 때 배열 상태를 출력하도록 수정\n",
    "# 원형 큐 아용\n",
    "class ArrayQueue:\n",
    "    def __init__(self, capacity = 10):\n",
    "        self.capacity = capacity\n",
    "        self.array = [None] * capacity\n",
    "        self.front = 0\n",
    "        self.rear = 0\n",
    "\n",
    "    def is_empty(self):\n",
    "        return self.front == self.rear\n",
    "\n",
    "    def is_full(self):\n",
    "        return self.front == (self.rear + 1) % self.capacity\n",
    "\n",
    "    def enqueue(self,item):\n",
    "        if not self.is_full():\n",
    "            self.rear = (self.rear + 1) % self.capacity\n",
    "            self.array[self.rear] = item\n",
    "        else:\n",
    "            print(\"Queue is full. Cannot enqueue.\")\n",
    "\n",
    "    def dequeue(self):\n",
    "        if not self.is_empty():\n",
    "            self.front = (self.front + 1) % self.capacity\n",
    "            item = self.array[self.front]\n",
    "            self.array[self.front] = None # 삭제된 자리 초기화\n",
    "            return item\n",
    "        else:\n",
    "          print(\"Queue is empty. Cannot dequeue.\")\n",
    "          return None\n",
    "\n",
    "# 기수 정렬 함수\n",
    "def radix_sort(A):\n",
    "    Buckets = 10 # 10 진수를 확인 하기 위해서 10으로 배정\n",
    "    Digits = 3 # 정렬할 숫자의 자릿수\n",
    "    # 버킷 개수만큼 원형큐 생성\n",
    "    queues = [ArrayQueue(len(A)) for _ in range(Buckets)]\n",
    "\n",
    "    # for _ in range(Buckets):\n",
    "    #     queues.append(ArrayQueue(len(A)))\n",
    "    n = len(A)\n",
    "    factor = 1\n",
    "    for d in range(Digits):\n",
    "        print(f\"\\nSorting by digit at place {factor}\")\n",
    "        for i in range(n):\n",
    "            digit = (A[i] // factor) % Buckets\n",
    "            queues[digit].enqueue(A[i]) # 자릿수에 해당하는 큐에 삽입 \n",
    "            print(f\"Enqueued {A[i]} in bucket {digit}\")\n",
    "        # 쿠에서 다시 배열로 값을 꺼내어 정렬된 상태로 재배열\n",
    "        i = 0\n",
    "        for b in range(Buckets):\n",
    "            while not queues[b].is_empty():\n",
    "                A[i] = queues[b].dequeue()\n",
    "                i += 1\n",
    "        # 현재 자릿수 시준 정렬된 배열 성태 출력\n",
    "        print(f\"After sorting by digit {factor}, array :{A}\")\n",
    "        # 다음 자릿수로 이동\n",
    "        factor *= Buckets\n",
    "    # 최종 결과 출력 \n",
    "    print(f\"\\nfinal sorted array:\" , A)\n",
    "\n",
    "# 사용 예시\n",
    "A = [170, 45, 75, 90, 802, 24, 2, 66]\n",
    "radix_sort(A)\n"
   ]
  },
  {
   "cell_type": "code",
   "execution_count": 42,
   "metadata": {},
   "outputs": [
    {
     "name": "stdout",
     "output_type": "stream",
     "text": [
      "\n",
      "Sorting by digit at place 1\n",
      "Enqueued 2989 in bucket 9\n",
      "Enqueued 2271 in bucket 1\n",
      "Enqueued 6944 in bucket 4\n",
      "Enqueued 8057 in bucket 7\n",
      "Enqueued 2814 in bucket 4\n",
      "Enqueued 6121 in bucket 1\n",
      "Enqueued 4210 in bucket 0\n",
      "Enqueued 9923 in bucket 3\n",
      "Enqueued 9662 in bucket 2\n",
      "Enqueued 6400 in bucket 0\n",
      "After sorting by digit 1, array :[4210, 6400, 2271, 6121, 9662, 9923, 6944, 2814, 8057, 2989]\n",
      "\n",
      "Sorting by digit at place 10\n",
      "Enqueued 4210 in bucket 1\n",
      "Enqueued 6400 in bucket 0\n",
      "Enqueued 2271 in bucket 7\n",
      "Enqueued 6121 in bucket 2\n",
      "Enqueued 9662 in bucket 6\n",
      "Enqueued 9923 in bucket 2\n",
      "Enqueued 6944 in bucket 4\n",
      "Enqueued 2814 in bucket 1\n",
      "Enqueued 8057 in bucket 5\n",
      "Enqueued 2989 in bucket 8\n",
      "After sorting by digit 10, array :[6400, 4210, 2814, 6121, 9923, 6944, 8057, 9662, 2271, 2989]\n",
      "\n",
      "Sorting by digit at place 100\n",
      "Enqueued 6400 in bucket 4\n",
      "Enqueued 4210 in bucket 2\n",
      "Enqueued 2814 in bucket 8\n",
      "Enqueued 6121 in bucket 1\n",
      "Enqueued 9923 in bucket 9\n",
      "Enqueued 6944 in bucket 9\n",
      "Enqueued 8057 in bucket 0\n",
      "Enqueued 9662 in bucket 6\n",
      "Enqueued 2271 in bucket 2\n",
      "Enqueued 2989 in bucket 9\n",
      "After sorting by digit 100, array :[8057, 6121, 4210, 2271, 6400, 9662, 2814, 9923, 6944, 2989]\n",
      "\n",
      "final sorted array: [8057, 6121, 4210, 2271, 6400, 9662, 2814, 9923, 6944, 2989]\n",
      "Radix: [8057, 6121, 4210, 2271, 6400, 9662, 2814, 9923, 6944, 2989]\n"
     ]
    }
   ],
   "source": [
    "import random\n",
    "Buckets = 10\n",
    "Digits = 4\n",
    "data = [random.randint(1,9999) for _ in range(10)]\n",
    "radix_sort(data)\n",
    "print(\"Radix:\" , data)"
   ]
  },
  {
   "cell_type": "markdown",
   "metadata": {
    "id": "y8_VopqiXvOV"
   },
   "source": [
    "# 2. 계수 정렬(Counting Sort)"
   ]
  },
  {
   "cell_type": "markdown",
   "metadata": {
    "id": "TffJX49E-1qv"
   },
   "source": [
    "###\n",
    "코드 수정"
   ]
  },
  {
   "cell_type": "code",
   "execution_count": 43,
   "metadata": {
    "id": "etB5RN16a3Ve"
   },
   "outputs": [
    {
     "name": "stdout",
     "output_type": "stream",
     "text": [
      "Setp 1 : Max value found: 8\n",
      "Setp 2 : initial count arrat: [0, 0, 0, 0, 0, 0, 0, 0, 0]\n",
      "Setp 3 : Count arrat after frequency counting: [0, 1, 2, 2, 1, 0, 0, 0, 1]\n",
      "Setp 4 : Max value found: [0, 1, 3, 5, 6, 6, 6, 6, 7]\n",
      " placed 1 at posion 0, updaed outputarrat: [1, 0, 0, 0, 0, 0, 0]\n",
      "[0, 0, 3, 5, 6, 6, 6, 6, 7]\n",
      " placed 3 at posion 4, updaed outputarrat: [1, 0, 0, 0, 3, 0, 0]\n",
      "[0, 0, 3, 4, 6, 6, 6, 6, 7]\n",
      " placed 3 at posion 3, updaed outputarrat: [1, 0, 0, 3, 3, 0, 0]\n",
      "[0, 0, 3, 3, 6, 6, 6, 6, 7]\n",
      " placed 8 at posion 6, updaed outputarrat: [1, 0, 0, 3, 3, 0, 8]\n",
      "[0, 0, 3, 3, 6, 6, 6, 6, 6]\n",
      " placed 2 at posion 2, updaed outputarrat: [1, 0, 2, 3, 3, 0, 8]\n",
      "[0, 0, 2, 3, 6, 6, 6, 6, 6]\n",
      " placed 2 at posion 1, updaed outputarrat: [1, 2, 2, 3, 3, 0, 8]\n",
      "[0, 0, 1, 3, 6, 6, 6, 6, 6]\n",
      " placed 4 at posion 5, updaed outputarrat: [1, 2, 2, 3, 3, 4, 8]\n",
      "[0, 0, 1, 3, 5, 6, 6, 6, 6]\n",
      "\n",
      "정렬된 배열: [1, 2, 2, 3, 3, 4, 8]\n"
     ]
    }
   ],
   "source": [
    "# 각 단계별로 정렬 과정을 출력하도록 counting_sort 함수에서 특정 작업을 수행할 때마다 배열의 상태를 출력하도록 수정\n",
    "# 특히, 빈도 계산, 누적합 계산, 그리고 정렬된 배열을 구축하는 단계를 출력\n",
    "def counting_sort(arr):\n",
    "    max_val = max(arr)\n",
    "    print(\"Setp 1 : Max value found:\" , max_val)\n",
    "    # 카운트 배열 생성 및 초기화 0으로 가득찬 배열\n",
    "    count = [0] * (max_val + 1)\n",
    "    print(\"Setp 2 : initial count arrat:\" , count)\n",
    "    # 빈도수 카운트 배열 입력 배열의 값을 카운트 배열에 기록 빈도 계산\n",
    "    for num in arr:\n",
    "        count[num] +=1\n",
    "    print(\"Setp 3 : Count arrat after frequency counting:\" , count)\n",
    "    # 4 누적 카운트 배열 : 카운트 배열에서 ㄴ  적합 계산(누적 카운트)\n",
    "    for i in range(1 , len(count)):\n",
    "        count[i] += count[i -1]\n",
    "    print(\"Setp 4 : Max value found:\" , count)\n",
    "    # 출력 배열 생성\n",
    "    output = [0] * len(arr)\n",
    "    # 입력 배열을 역순으로 순회하면서, 각 요소를 출력 배열의 올바른 위치에 삽입\n",
    "    for num in reversed(arr):\n",
    "        output[count[num] - 1] = num\n",
    "        count[num] -= 1\n",
    "        print(f\" placed {num} at posion {count[num]}, updaed outputarrat:\", output)\n",
    "        print(count)\n",
    "    return output\n",
    "\n",
    "\n",
    "\n",
    "# 사용 예시\n",
    "arr = [4, 2, 2, 8, 3, 3, 1]\n",
    "sorted_arr = counting_sort(arr)\n",
    "print(\"\\n정렬된 배열:\", sorted_arr)\n"
   ]
  },
  {
   "cell_type": "markdown",
   "metadata": {
    "id": "Lc9hciKleOJ1"
   },
   "source": [
    "# #. 정렬 알고리즘을 이용한 프로그래밍 과제\n",
    "- 과제 주제: 학생 성적 관리 시스템\n",
    "    - 학생 성적 데이터가 주어졌을 때, 다양한 정렬 알고리즘을 활용해 데이터를 정렬하고 분석하는 프로그램을 작성하세요.\n",
    "    - 이 과제를 통해 정렬 알고리즘의 원리를 이해하고, 실제 데이터에 적용하는 방법을 익히게 됩니다.\n",
    "- 과제 요구사항\n",
    "  - 학생 정보 생성 및 저장:\n",
    "    - 30명의 학생 정보를 무작위로 생성하세요. 각 학생의 정보는 다음과 같습니다:\n",
    "      - 이름: 알파벳 대문자 두 글자 (예: AB, CD)\n",
    "      - 나이: 18 ~ 22 사이의 정수\n",
    "      - 성적: 0 ~ 100 사이의 정수\n",
    "      - 생성된 학생 정보를 리스트에 저장하세요. 각 학생의 정보는 딕셔너리 형태({\"이름\": \"AB\", \"나이\": 19, \"성적\": 85})로 저장합니다.\n",
    "\n",
    "  - 정렬 기능 구현:\n",
    "    - 다음 네 가지 정렬 알고리즘을 구현하세요.\n",
    "      - 선택 정렬, 삽입 정렬, 퀵 정렬\n",
    "      - 기수 정렬 (성적 기준으로 정렬할 때만 사용 가능)\n",
    "    - 각 정렬 알고리즘은 특정 필드를 기준으로 학생 리스트를 정렬할 수 있어야 합니다:\n",
    "      - 이름 (알파벳 순서)\n",
    "      - 나이 (오름차순)\n",
    "      - 성적 (오름차순)\n",
    "  \n",
    "  - 메뉴 및 사용자 입력:\n",
    "    - 프로그램 시작 시, 사용자에게 다음 메뉴를 제공합니다:\n",
    "      - 이름을 기준으로 정렬\n",
    "      - 나이를 기준으로 정렬\n",
    "      - 성적을 기준으로 정렬\n",
    "      - 프로그램 종료\n",
    "    - 사용자 입력에 따라 정렬 기준과 정렬 알고리즘을 선택하도록 합니다.\n",
    "    - 정렬된 결과를 화면에 출력하세요.\n",
    "\n",
    "  - 단계별 출력 (선택 사항):\n",
    "    - 선택한 정렬 알고리즘의 정렬 과정을 단계별로 출력하는 기능을 구현합니다.\n",
    "      - 예를 들어, 선택 정렬의 경우 각 단계마다 리스트 상태를 출력하여 정렬 과정이 어떻게 진행되는지 보여줍니다.\n",
    "\n",
    "- 제출물\n",
    "    - 코드: 파이썬 파일로 정렬 프로그램의 전체 코드 제출.\n",
    "    - README: 코드 구조, 실행 방법, 각 정렬 알고리즘의 시간 복잡도를 설명하는 문서 제출.\n",
    "    - 시간 복잡도 분석: 각 정렬 알고리즘의 평균 수행 시간을 측정하고, 정렬할 학생 데이터 크기가 증가할 때 성능 변화를 그래프로 표현하세요.\n",
    "    - 단계별 출력 기능: 각 정렬 알고리즘의 단계별 리스트 변화를 출력하여 알고리즘의 동작 방식을 시각적으로 확인하세요."
   ]
  },
  {
   "cell_type": "code",
   "execution_count": null,
   "metadata": {
    "id": "mcCVjuAXftuG"
   },
   "outputs": [],
   "source": []
  }
 ],
 "metadata": {
  "colab": {
   "provenance": []
  },
  "kernelspec": {
   "display_name": "Python 3 (ipykernel)",
   "language": "python",
   "name": "python3"
  },
  "language_info": {
   "codemirror_mode": {
    "name": "ipython",
    "version": 3
   },
   "file_extension": ".py",
   "mimetype": "text/x-python",
   "name": "python",
   "nbconvert_exporter": "python",
   "pygments_lexer": "ipython3",
   "version": "3.12.4"
  }
 },
 "nbformat": 4,
 "nbformat_minor": 4
}
