{
 "cells": [
  {
   "cell_type": "code",
   "execution_count": 12,
   "metadata": {
    "id": "IyQZTU8_dWVP"
   },
   "outputs": [
    {
     "name": "stdout",
     "output_type": "stream",
     "text": [
      "초기 상태= []\n",
      "queue:[None, 0, None, None, None, None, None, None]\n",
      "rear:1\n",
      "front:0\n",
      "\n",
      "queue:[None, 0, 1, None, None, None, None, None]\n",
      "rear:2\n",
      "front:0\n",
      "\n",
      "queue:[None, 0, 1, 2, None, None, None, None]\n",
      "rear:3\n",
      "front:0\n",
      "\n",
      "queue:[None, 0, 1, 2, 3, None, None, None]\n",
      "rear:4\n",
      "front:0\n",
      "\n",
      "queue:[None, 0, 1, 2, 3, 4, None, None]\n",
      "rear:5\n",
      "front:0\n",
      "\n",
      "queue:[None, 0, 1, 2, 3, 4, 5, None]\n",
      "rear:6\n",
      "front:0\n",
      "\n",
      "삽입 0-5= [0 1 2 3 4 5 ]\n",
      "\n",
      "queue:[None, 0, 1, 2, 3, 4, 5, 6]\n",
      "rear:7\n",
      "front:1\n",
      "\n",
      "queue:[7, 0, 1, 2, 3, 4, 5, 6]\n",
      "rear:0\n",
      "front:2\n",
      "\n",
      "삽입 6,7= [2 3 4 5 6 7 ]\n",
      "queue:[7, 8, 1, 2, 3, 4, 5, 6]\n",
      "rear:1\n",
      "front:3\n",
      "\n",
      "queue:[7, 8, 9, 2, 3, 4, 5, 6]\n",
      "rear:2\n",
      "front:4\n",
      "\n",
      "삽입 8,9= [4 5 6 7 8 9 ]\n",
      "queue:[7, 8, 9, 2, 3, None, 5, 6]\n",
      "rear:2\n",
      "front:5\n",
      "\n",
      "queue:[7, 8, 9, 2, 3, None, None, 6]\n",
      "rear:2\n",
      "front:6\n",
      "\n",
      "삭제  x2= [6 7 8 9 ]\n"
     ]
    }
   ],
   "source": [
    "# 코드 2.3: 링버퍼를 위한 원형큐 삽입 수정 및 테스트 프로그램\n",
    "\n",
    "class ArrayQueue :\n",
    "    def __init__( self, capacity = 10 ) :\n",
    "        self.capacity = capacity\n",
    "        self.array = [None] * capacity\n",
    "        self.front = 0\n",
    "        self.rear = 0\n",
    "\n",
    "    def isEmpty( self ) :\n",
    "       return self.front == self.rear\n",
    "\n",
    "    def isFull( self ) :\n",
    "       return self.front == (self.rear+1) % self.capacity\n",
    "\n",
    "    def enqueue( self, item ):\n",
    "        if not self.isFull():\n",
    "            self.rear = (self.rear + 1) % self.capacity\n",
    "            self.array[self.rear] = item\n",
    "        else : pass\n",
    "\n",
    "\n",
    "    def dequeue(self):\n",
    "          if not self.isEmpty():\n",
    "              self.front = (self.front + 1) % self.capacity\n",
    "              item = self.array[self.front]\n",
    "              self.array[self.front] = None # 삭제된 자리 초기화\n",
    "              return item\n",
    "          else:\n",
    "            print(\"Queue is empty. Cannot dequeue.\")\n",
    "            return None\n",
    "\n",
    "    def peek( self ):\n",
    "        if not self.isEmpty():\n",
    "            return self.array[(self.front + 1) % self.capacity]\n",
    "        else : pass\n",
    "\n",
    "    def size( self ) :\n",
    "       return (self.rear - self.front + self.capacity) % self.capacity\n",
    "\n",
    "    def display(self, msg='Queue:' ):\n",
    "        print(msg, end='= [')\n",
    "\n",
    "        for i in range(self.front+1, self.front+1+self.size()):\n",
    "            print(self.array[i % self.capacity], end=' ')\n",
    "        print(\"]\")\n",
    "\n",
    "\n",
    "#########################추가 ######################\n",
    "    # 코드 2.3a: 원형 큐: 링 버퍼를 위한 삽입 연산\n",
    "    def enqueue2(self, item):\n",
    "        self.rear = (self.rear +1) % self.capacity\n",
    "        self.array[self.rear] = item\n",
    "        if self.isFull():\n",
    "            self.front = (self.front + 1) % self.capacity #overwriting\n",
    "\n",
    "\n",
    "#=========================================================\n",
    "# 코드 2.3b: 링 버퍼의 테스트 프로그램\n",
    "\n",
    "if __name__ == \"__main__\":\n",
    "    q = ArrayQueue(8)\n",
    "    q.display(\"초기 상태\")\n",
    "\n",
    "    for i in range(6) :\n",
    "        q.enqueue2(i)\n",
    "        print(f\"queue:{q.array}\")\n",
    "        print(f\"rear:{q.rear}\")\n",
    "        print(f\"front:{q.front}\")\n",
    "        print()\n",
    "    q.display(\"삽입 0-5\")\n",
    "    print()\n",
    "\n",
    "    # enqueue2(): 6, 7\n",
    "    q.enqueue2(6)\n",
    "    print(f\"queue:{q.array}\")\n",
    "    print(f\"rear:{q.rear}\")\n",
    "    print(f\"front:{q.front}\")\n",
    "    print()\n",
    "    q.enqueue2(7)\n",
    "    print(f\"queue:{q.array}\")\n",
    "    print(f\"rear:{q.rear}\")\n",
    "    print(f\"front:{q.front}\")\n",
    "    print()\n",
    "    q.display(\"삽입 6,7\")\n",
    "\n",
    "\n",
    "    # enqueue2(): 8, 9\n",
    "    q.enqueue2(8)\n",
    "    print(f\"queue:{q.array}\")\n",
    "    print(f\"rear:{q.rear}\")\n",
    "    print(f\"front:{q.front}\")\n",
    "    print()\n",
    "    q.enqueue2(9)\n",
    "    print(f\"queue:{q.array}\")\n",
    "    print(f\"rear:{q.rear}\")\n",
    "    print(f\"front:{q.front}\")\n",
    "    print()\n",
    "\n",
    "    q.display(\"삽입 8,9\")\n",
    "\n",
    "\n",
    "    # dequeue() 2회\n",
    "    q.dequeue()\n",
    "    print(f\"queue:{q.array}\")\n",
    "    print(f\"rear:{q.rear}\")\n",
    "    print(f\"front:{q.front}\")\n",
    "    print()\n",
    "    q.dequeue()\n",
    "    print(f\"queue:{q.array}\")\n",
    "    print(f\"rear:{q.rear}\")\n",
    "    print(f\"front:{q.front}\")\n",
    "    print()\n",
    "\n",
    "    q.display(\"삭제  x2\")\n",
    "\n",
    "\n"
   ]
  },
  {
   "cell_type": "code",
   "execution_count": null,
   "metadata": {
    "id": "pVgO4mSu6LkN"
   },
   "outputs": [],
   "source": []
  },
  {
   "cell_type": "code",
   "execution_count": 11,
   "metadata": {
    "colab": {
     "base_uri": "https://localhost:8080/"
    },
    "id": "NySueGtSdk6F",
    "outputId": "8924e257-74bd-439a-986f-ddd40375d950"
   },
   "outputs": [
    {
     "name": "stdout",
     "output_type": "stream",
     "text": [
      "삽입 순서: 18 36 9 61 90 23 75 11 \n",
      "삭제 순서: 18 36 9 61 90 23 75 11 \n"
     ]
    }
   ],
   "source": [
    "#=========================================================\n",
    "# 코드 2.6: queue 모듈의 Queue 테스트 프로그램\n",
    "\n",
    "import random, queue \t\t\t        # 파이썬의 큐 모듈 포함\n",
    "\n",
    "q = queue.Queue(8)              # 큐 객체를 생성(capacity=8)\n",
    "\n",
    "\n",
    "print(\"삽입 순서: \", end='')\n",
    "while not q.full() :            # 큐에 빈 칸인 남았으면\n",
    "    v = random.randint(0,100)   # 0~99사이의 정수 발생\n",
    "    q.put(v)                    # 삽입\n",
    "    print(v, end=' ')\n",
    "\n",
    "print()\n",
    "\n",
    "print(\"삭제 순서: \", end='')\n",
    "while not q.empty() :         # 큐에 요소가 남아 있으면\n",
    "    print(q.get(), end=' ') # 꺼내서 화면에 출력\n",
    "print()\n",
    "\n"
   ]
  },
  {
   "cell_type": "code",
   "execution_count": null,
   "metadata": {
    "id": "rL9witLA6M9J"
   },
   "outputs": [],
   "source": []
  },
  {
   "cell_type": "markdown",
   "metadata": {
    "id": "Y1ZYgW5wv4ND"
   },
   "source": [
    "# 1. 단순 연결 리스트 (singly linked list) 자료구조"
   ]
  },
  {
   "cell_type": "code",
   "execution_count": 22,
   "metadata": {
    "id": "N3aXwqdD3DV9"
   },
   "outputs": [],
   "source": [
    "class Node:\n",
    "    def __init__(self, elem, next=None):\n",
    "        self.data = elem\n",
    "        self.link = next\n",
    "\n",
    "    def append(self, node):\n",
    "        if node is not None:\n",
    "            node.link = self.link\n",
    "            self.link = node\n",
    "\n",
    "    def popNext(self):\n",
    "        next = self.link\n",
    "        if next is not None:\n",
    "            self.link = next.link\n",
    "        return next\n",
    "\n",
    "\n",
    "class LinkedList:\n",
    "    def __init__(self):\n",
    "        self.head = None  # 비어있는 단순 연결 리스트 아무것도 없는 상태\n",
    "\n",
    "    def isEmpty(self):\n",
    "        return self.head == None  # '=='로 비교 연산\n",
    "\n",
    "    def isFull(self):\n",
    "        return False\n",
    "\n",
    "    def getNode(self, pos):\n",
    "        # 리스트에서 특정 위치에 있는 노드를 반환, 첫번째 노드는 pos = 0\n",
    "        if pos < 0:\n",
    "            return None\n",
    "        ptr = self.head\n",
    "        for i in range(pos):\n",
    "            if ptr is None:  # pos가 list의 크기보다 큰 경우\n",
    "                return None  # 'return None'으로 수정\n",
    "            ptr = ptr.link  # ptr을 이동진행\n",
    "\n",
    "        return ptr  # pos의 위치에 있는 최종 노드를 반환\n",
    "\n",
    "    def getEntry(self, pos):\n",
    "        \"\"\"\n",
    "        리스트의 특정 위치에 있는 노드의 데이터를 가져오기\n",
    "        1. getNode()함수를 이용하여 해당 위치의 노드를 가져온다\n",
    "        2. 그 노드의 data를 반환하고, 없으면 None으로 반환\n",
    "        \"\"\"\n",
    "        node = self.getNode(pos)\n",
    "        if node is None:\n",
    "            return None\n",
    "        else:\n",
    "            return node.data\n",
    "\n",
    "    def replace(self, pos, elem):\n",
    "        \"\"\"\n",
    "        리스트의 특정 위치에 있는 노드의 데이터를 변경\n",
    "        1. getNode(pos)를 사용하여 해당 노드 얻어 오기\n",
    "        2. 그 노드의 data를 새로운 값으로 수정\n",
    "        \"\"\"\n",
    "        node = self.getNode(pos)\n",
    "        if node is None:\n",
    "            return None\n",
    "        else:\n",
    "            node.data = elem\n",
    "\n",
    "    def size(self):\n",
    "        \"\"\"\n",
    "        연결리스트의 총 노드의 개수를 반환\n",
    "        1. head부터 시작하여 모든 노드를 순차적으로 탐색하여 카운트한다.\n",
    "        \"\"\"\n",
    "        ptr = self.head  # 처음 노드부터 시작한다.\n",
    "        count = 0\n",
    "        while ptr is not None:  # ptr이 None이 아닌 동안\n",
    "            ptr = ptr.link  # 링크를 따라 이동\n",
    "            count += 1  # 이동할 때마다 카운트를 업데이트\n",
    "        return count\n",
    "\n",
    "    def display(self, msg=\"Linked List: \"):  # 'sef'를 'self'로 수정\n",
    "        \"\"\"\n",
    "        1. head부터 시작해서 각 노드의 data를 출력\n",
    "        2. 마지막 노드 이후에는 None을 출력\n",
    "        \"\"\"\n",
    "        print(msg, end=\" \")\n",
    "        ptr = self.head\n",
    "        while ptr is not None:\n",
    "            print(ptr.data, end=\"->\")\n",
    "            ptr = ptr.link\n",
    "        print(\"None\")\n",
    "\n",
    "    def insert(self, pos, elem):\n",
    "        \"\"\"\n",
    "        특정한 위치에 새로운 노드를 삽입\n",
    "        1. 저장할 새로운 노드를 생성한다.\n",
    "        2. getNode(pos-1)을 사용해서 삽입할 위치의 이전 노드를 찾는다.\n",
    "        2-1. pos=0이면 -> 위치가 맨 앞일 경우, 새로운 노드를 head로 설정하는 것\n",
    "        2-2. 만약 그렇지 않다면 그 앞에 새로운 노드를 삽입한다.\n",
    "        \"\"\"\n",
    "        node = Node(elem, None)\n",
    "        before = self.getNode(pos - 1)\n",
    "        if before is None:\n",
    "            node.link = self.head\n",
    "            self.head = node\n",
    "        else:\n",
    "            before.append(node)  # 'noe'를 'node'로 수정\n",
    "\n",
    "    def delete(self, pos):\n",
    "        \"\"\"\n",
    "        리스트에서 특정 위치의 노드를 삭제\n",
    "        1. getNode()를 사용해서 삭제할 노드의 앞 노드를 찾는다.\n",
    "        2. 만약 첫번째 노드를 삭제하려면, self.head를 다음 노드로 변경.\n",
    "        3. 만약 그렇지 않다면 popNext()를 이용하여 해당 노드를 리스트에서 제외시킨다.\n",
    "        \"\"\"\n",
    "        before = self.getNode(pos - 1)\n",
    "        if before is None:\n",
    "            before = self.head\n",
    "            if self.head is not None:  # 리스트가 공백이 아니라면\n",
    "                self.head = self.head.link  # 머리 노드를 갱신\n",
    "            return before\n",
    "        else:\n",
    "            return before.popNext()\n"
   ]
  },
  {
   "cell_type": "code",
   "execution_count": null,
   "metadata": {
    "id": "jhTR9iGl3D5S"
   },
   "outputs": [],
   "source": []
  },
  {
   "cell_type": "code",
   "execution_count": 23,
   "metadata": {
    "id": "zN5OQiooiawt"
   },
   "outputs": [
    {
     "name": "stdout",
     "output_type": "stream",
     "text": [
      "Linked List:  10->20->30->None\n",
      "Linked List:  10->30->None\n"
     ]
    },
    {
     "ename": "AttributeError",
     "evalue": "'LinkedList' object has no attribute 'find'",
     "output_type": "error",
     "traceback": [
      "\u001b[1;31m---------------------------------------------------------------------------\u001b[0m",
      "\u001b[1;31mAttributeError\u001b[0m                            Traceback (most recent call last)",
      "Cell \u001b[1;32mIn[23], line 16\u001b[0m\n\u001b[0;32m     13\u001b[0m ll\u001b[38;5;241m.\u001b[39mdisplay()      \u001b[38;5;66;03m# 출력: LinkedList: 10->30->None\u001b[39;00m\n\u001b[0;32m     15\u001b[0m \u001b[38;5;66;03m# 5. 노드 찾기\u001b[39;00m\n\u001b[1;32m---> 16\u001b[0m find \u001b[38;5;241m=\u001b[39m \u001b[43mll\u001b[49m\u001b[38;5;241;43m.\u001b[39;49m\u001b[43mfind\u001b[49m(\u001b[38;5;241m30\u001b[39m)  \u001b[38;5;66;03m# 데이터 30을 가진 노드 찾기\u001b[39;00m\n\u001b[0;32m     17\u001b[0m \u001b[38;5;28mprint\u001b[39m(find\u001b[38;5;241m.\u001b[39mdata)\n\u001b[0;32m     19\u001b[0m \u001b[38;5;66;03m# 5. 노드 변경\u001b[39;00m\n",
      "\u001b[1;31mAttributeError\u001b[0m: 'LinkedList' object has no attribute 'find'"
     ]
    }
   ],
   "source": [
    "# test program\n",
    "#1. 연결 리스트 생성\n",
    "ll = LinkedList()\n",
    "\n",
    "#2. 노드 삽입\n",
    "ll.insert(0, 10)  # 첫 번째 위치에 10 삽입\n",
    "ll.insert(1, 20)  # 두 번째 위치에 20 삽입\n",
    "ll.insert(2, 30)  # 세 번째 위치에 30 삽입\n",
    "ll.display()      # 출력: LinkedList: 10->20->30->None\n",
    "\n",
    "# 3.노드 삭제\n",
    "ll.delete(1)      # 두 번째 위치의 노드 (20) 삭제\n",
    "ll.display()      # 출력: LinkedList: 10->30->None\n",
    "\n",
    "# 5. 노드 찾기\n",
    "# find = ll.find(30)  # 데이터 30을 가진 노드 찾기\n",
    "# print(find.data)\n",
    "\n",
    "# 5. 노드 변경\n",
    "ll.replace(1, 25)  # 두 번째 노드의 데이터를 25로 변경\n",
    "ll.display()       # 출력: LinkedList: 10->25->None\n"
   ]
  },
  {
   "cell_type": "code",
   "execution_count": null,
   "metadata": {
    "id": "W0lQyQgd3Nf7"
   },
   "outputs": [],
   "source": []
  },
  {
   "cell_type": "code",
   "execution_count": null,
   "metadata": {
    "id": "q7-s7puEelO4"
   },
   "outputs": [],
   "source": [
    "#=========================================================\n",
    "# 코드 3.3: LinkedList와 파이썬 리스트 비교\n",
    "\n",
    "# 단순연결리스트(LinkedList) 사용\n",
    "s = LinkedList()\n",
    "s.display('연결리스트( 초기 ): ')\n",
    "s.insert(0, 10)\n",
    "s.insert(0, 20)\n",
    "s.insert(1, 30)\n",
    "s.insert(s.size(), 40)\n",
    "s.insert(2, 50)\n",
    "\n",
    "s.display(\"연결리스트(삽입x5): \")\n",
    "s.replace(2, 90)\n",
    "s.display(\"연결리스트(교체x1): \")\n",
    "s.delete(2)\n",
    "s.delete(3)\n",
    "s.delete(0)\n",
    "s.display(\"연결리스트(삭제x3): \")\n",
    "\n",
    "\n",
    "# 파이썬의 리스트 사용\n",
    "l = []\n",
    "print('파이썬list( 초기 ):', l)\n",
    "l.insert(0, 10)\n",
    "l.insert(0, 20)\n",
    "l.insert(1, 30)\n",
    "l.insert(len(l), 40)\n",
    "l.insert(2, 50)\n",
    "print('파이썬list(삽입x5):', l)\n",
    "l[2] = 90\n",
    "print('파이썬list(교체x1):', l)\n",
    "l.pop(2)\n",
    "l.pop(3)\n",
    "l.pop(0)\n",
    "print('파이썬list(삭제x3):', l)\n",
    "\n"
   ]
  },
  {
   "cell_type": "code",
   "execution_count": null,
   "metadata": {
    "id": "aLXd8mKakIqV"
   },
   "outputs": [],
   "source": []
  },
  {
   "cell_type": "markdown",
   "metadata": {
    "id": "8cJ4YGDhkeP1"
   },
   "source": [
    "# 2. 이중 연결 리스트"
   ]
  },
  {
   "cell_type": "code",
   "execution_count": null,
   "metadata": {
    "id": "AsOkhpdc3ao0"
   },
   "outputs": [],
   "source": []
  },
  {
   "cell_type": "code",
   "execution_count": null,
   "metadata": {
    "colab": {
     "base_uri": "https://localhost:8080/"
    },
    "id": "R-vk0NDTtCXi",
    "outputId": "d898924a-57a0-4d22-f9aa-7124c5d23aae"
   },
   "outputs": [
    {
     "name": "stdout",
     "output_type": "stream",
     "text": [
      "None\n",
      "DoublyLinkedList:None\n",
      "10\n",
      "10\n",
      "DoublyLinkedList:10 <-> 15 <-> 20 <-> 30 <-> None\n",
      "DoublyLinkedList:10 <-> 20 <-> 30 <-> None\n",
      "DoublyLinkedList (Reverse):30 <-> 20 <-> 10 <-> None\n"
     ]
    }
   ],
   "source": [
    "# 사용 예시\n",
    "\n",
    "dll = DoublyLinkedList()\n",
    "\n",
    "data = dll.delete(0)\n",
    "print(data)\n",
    "dll.display()\n",
    "\n",
    "dll.insert(0, 10)  # 첫 번째 위치에 10 삽입\n",
    "print(dll.head.data)\n",
    "print(dll.tail.data)\n",
    "dll.insert(1, 20)  # 두 번째 위치에 20 삽입\n",
    "dll.insert(2, 30)  # 세 번째 위치에 30 삽입\n",
    "dll.insert(1, 15)  # 두 번째 위치에 15 삽입\n",
    "\n",
    "\n",
    "dll.display()  # 출력: DoublyLinkedList: 10 <-> 15 <-> 20 <-> 30 <-> None\n",
    "\n",
    "dll.delete(1)  # 세 번째 위치의 노드 삭제 (20 삭제)\n",
    "dll.display()  # 출력: DoublyLinkedList: 10 <-> 15 <-> 30 <-> None\n",
    "\n",
    "dll.reverseDisplay()  # 출력: DoublyLinkedList (Reverse): 30 <-> 15 <-> 10 <-> None\n"
   ]
  },
  {
   "cell_type": "markdown",
   "metadata": {
    "id": "1uwmap9ZqXjO"
   },
   "source": [
    "# #. 문제: 도서관리 시스템\n",
    "  - 단순 연결리스트와 Node 클래스는 이전 코드와 동일하게 작성"
   ]
  }
 ],
 "metadata": {
  "colab": {
   "provenance": []
  },
  "kernelspec": {
   "display_name": "Python 3 (ipykernel)",
   "language": "python",
   "name": "python3"
  },
  "language_info": {
   "codemirror_mode": {
    "name": "ipython",
    "version": 3
   },
   "file_extension": ".py",
   "mimetype": "text/x-python",
   "name": "python",
   "nbconvert_exporter": "python",
   "pygments_lexer": "ipython3",
   "version": "3.12.4"
  }
 },
 "nbformat": 4,
 "nbformat_minor": 4
}
