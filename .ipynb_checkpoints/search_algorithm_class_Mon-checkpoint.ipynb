{
 "cells": [
  {
   "cell_type": "markdown",
   "metadata": {
    "id": "CXz7hqEFt_Hi"
   },
   "source": [
    "# # 순차 탐색 알고리즘"
   ]
  },
  {
   "cell_type": "code",
   "execution_count": null,
   "metadata": {
    "collapsed": true,
    "id": "mnI-uNQzuDDT",
    "jupyter": {
     "outputs_hidden": true
    },
    "outputId": "a0694c04-a2c5-4d73-9ffb-53e4898604d6"
   },
   "outputs": [
    {
     "name": "stdout",
     "output_type": "stream",
     "text": [
      "테스트 1 - key=23: 결과=3\n",
      "테스트 2 - key=3: 결과=0\n",
      "테스트 3 - key=105: 결과=8\n",
      "테스트 4 - key=50: 결과=-1\n",
      "테스트 5 - key=42: 결과=4\n",
      "테스트 6 - key=91: 결과=-1\n",
      "테스트 7 - key=15: 결과=2\n",
      "테스트 8 - key=8: 결과=-1\n"
     ]
    }
   ],
   "source": [
    "# 순차 탐색\n",
    "def sequential_search(A, key, low, high):\n",
    "    for i in range(low, high+1,1):\n",
    "        if A[i] == key:\n",
    "            return i\n",
    "    return -1\n",
    "\n",
    "\n",
    "# 테스트 프로그램\n",
    "if __name__ == \"__main__\":\n",
    "    # 테스트 데이터\n",
    "    A = [3, 8, 15, 23, 42, 56, 72, 91, 105]\n",
    "\n",
    "    # 테스트 1: 탐색 성공 (key가 중간에 위치)\n",
    "    key = 23\n",
    "    result = sequential_search(A, key, 0, len(A) - 1)\n",
    "    print(f\"테스트 1 - key={key}: 결과={result}\")\n",
    "\n",
    "    # 테스트 2: 탐색 성공 (key가 시작 부분에 위치)\n",
    "    key = 3\n",
    "    result = sequential_search(A, key, 0, len(A) - 1)\n",
    "    print(f\"테스트 2 - key={key}: 결과={result}\")\n",
    "\n",
    "    # 테스트 3: 탐색 성공 (key가 끝 부분에 위치)\n",
    "    key = 105\n",
    "    result = sequential_search(A, key, 0, len(A) - 1)\n",
    "    print(f\"테스트 3 - key={key}: 결과={result}\")\n",
    "\n",
    "    # 테스트 4: 탐색 실패 (key가 리스트에 없음)\n",
    "    key = 50\n",
    "    result = sequential_search(A, key, 0, len(A) - 1)\n",
    "    print(f\"테스트 4 - key={key}: 결과={result}\")\n",
    "\n",
    "    # 테스트 5: 부분 범위 탐색 (key가 범위 내에 있음)\n",
    "    key = 42\n",
    "    result = sequential_search(A, key, 2, 5)\n",
    "    print(f\"테스트 5 - key={key}: 결과={result}\")\n",
    "\n",
    "    # 테스트 6: 부분 범위 탐색 (key가 범위 내에 없음)\n",
    "    key = 91\n",
    "    result = sequential_search(A, key, 0, 4)\n",
    "    print(f\"테스트 6 - key={key}: 결과={result}\")\n",
    "\n",
    "    # 테스트 7: low와 high가 같은 경우 (key가 있음)\n",
    "    key = 15\n",
    "    result = sequential_search(A, key, 2, 2)\n",
    "    print(f\"테스트 7 - key={key}: 결과={result}\")\n",
    "\n",
    "    # 테스트 8: low와 high가 같은 경우 (key가 없음)\n",
    "    key = 8\n",
    "    result = sequential_search(A, key, 3, 3)\n",
    "    print(f\"테스트 8 - key={key}: 결과={result}\")\n"
   ]
  },
  {
   "cell_type": "code",
   "execution_count": null,
   "metadata": {
    "id": "fzqO9M7NvCQr",
    "outputId": "33af4b3b-f0c5-45a4-a05f-3c2e25e91323"
   },
   "outputs": [
    {
     "name": "stdout",
     "output_type": "stream",
     "text": [
      "이동 전: [35, 97, 41, 56, 28, 61]\n",
      "이동 후: [56, 35, 97, 41, 28, 61]\n"
     ]
    }
   ],
   "source": [
    "# 순차 탐색 개선 방법:자기 구성 탐색\n",
    "# 1. 배열(Array) 구조를 이용한 \"맨 앞으로 보내기\" 구현\n",
    "def move_to_front_array(arr, target):\n",
    "    # 1.arr에서 target을 탐색\n",
    "    try:\n",
    "        index = arr.index(target) # target의 인덱스 찾기\n",
    "    except ValueError:\n",
    "        return arr\n",
    "    # 2. target을 맨 앞으로 이동\n",
    "    element = arr.pop(index) # target 요소를 삭제\n",
    "    arr.insert(0, element) #맨앞에 target 요소를 삽입\n",
    "    # 3. arr을 반환\n",
    "    return arr\n",
    "\n",
    "\n",
    "# 예시\n",
    "array = [35, 97, 41, 56, 28, 61]\n",
    "print(\"이동 전:\", array)\n",
    "result = move_to_front_array(array, 56)\n",
    "print(\"이동 후:\", result)"
   ]
  },
  {
   "cell_type": "code",
   "execution_count": null,
   "metadata": {
    "id": "ehXoAMEa1Oky",
    "outputId": "d4e6cfe7-4ffb-4ace-9d1d-d2478ea52cd9"
   },
   "outputs": [
    {
     "name": "stdout",
     "output_type": "stream",
     "text": [
      "이동 전: [35, 97, 41, 56, 28, 61]\n",
      "이동 후: [35, 97, 56, 41, 28, 61]\n",
      "key 위치: 2\n"
     ]
    }
   ],
   "source": [
    "# 순차 탐색 개선 방법:자기 구성 탐색\n",
    "# 2. 배열(Array) 구조에서 \"교환하기\" 구현\n",
    "def sequential_search_transpose(arr, key, low, high):\n",
    "    for i in range(low, high+1):\n",
    "        if arr[i] == key:\n",
    "            if i > low:\n",
    "                arr[i], arr[i-1] = arr[i-1], arr[i]\n",
    "                i = i-1\n",
    "            return i\n",
    "    return -1\n",
    "\n",
    "# 예시\n",
    "array = [35, 97, 41, 56, 28, 61]\n",
    "print(\"이동 전:\", array)\n",
    "index = sequential_search_transpose(array, 56, 0, len(array) - 1)\n",
    "print(\"이동 후:\", array)\n",
    "print(\"key 위치:\", index)\n"
   ]
  },
  {
   "cell_type": "markdown",
   "metadata": {
    "id": "ql0iQvdlSJkH"
   },
   "source": [
    "# # 이진 탐색(Binary search ) 알고리즘"
   ]
  },
  {
   "cell_type": "code",
   "execution_count": null,
   "metadata": {
    "id": "60VsERDMSOBX",
    "outputId": "c81972c0-0ffe-43e2-f3d0-c2627fd8f970"
   },
   "outputs": [
    {
     "name": "stdout",
     "output_type": "stream",
     "text": [
      "테스트 배열: [3, 6, 13, 17, 24, 29, 31, 36, 40, 45, 50]\n",
      "\n",
      "탐색할 key: 13\n",
      "재귀적 이진 탐색: 13는 인덱스 2에 위치합니다.\n",
      "반복적 이진 탐색: 13는 인덱스 2에 위치합니다.\n",
      "\n",
      "탐색할 key: 36\n",
      "재귀적 이진 탐색: 36는 배열에 존재하지 않습니다.\n",
      "반복적 이진 탐색: 36는 배열에 존재하지 않습니다.\n",
      "\n",
      "탐색할 key: 50\n",
      "재귀적 이진 탐색: 50는 배열에 존재하지 않습니다.\n",
      "반복적 이진 탐색: 50는 배열에 존재하지 않습니다.\n",
      "\n",
      "탐색할 key: 3\n",
      "재귀적 이진 탐색: 3는 인덱스 0에 위치합니다.\n",
      "반복적 이진 탐색: 3는 인덱스 0에 위치합니다.\n",
      "\n",
      "탐색할 key: 100\n",
      "재귀적 이진 탐색: 100는 배열에 존재하지 않습니다.\n",
      "반복적 이진 탐색: 100는 배열에 존재하지 않습니다.\n"
     ]
    }
   ],
   "source": [
    "# 재귀적 이진 탐색 : 배열 구현\n",
    "def binary_search(A, key, low, high):\n",
    "    if low < high: # 탐색 범위에 레코드가 남아있을 때 탐색을 계속\n",
    "        middle = (low + high) // 2\n",
    "        if key == A[middle]: # key를 찾았을 때\n",
    "            return middle\n",
    "        elif key < A[middle]:\n",
    "            return binary_search(A, key, low, middle - 1)\n",
    "        else:\n",
    "            return binary_search(A, key, middle+1, high)\n",
    "\n",
    "    return -1 # 탐색 실패시 -1 반환\n",
    "\n",
    "\n",
    "# 반복적 이진 탐색\n",
    "def binary_search_iter(A,key, low, high):\n",
    "    while low < high: # 탐색 범위에 레코드가 남아있을 때 탐색을 계속\n",
    "        middle = (low + high) // 2\n",
    "        if key == A[middle]: # key를 찾았을 때\n",
    "            return middle  # 해당 인덱스 반환\n",
    "        elif key < A[middle]:\n",
    "            high = middle - 1\n",
    "        else:\n",
    "            low  = middle + 1\n",
    "\n",
    "    return -1 # 탐색 실패인 경우\n",
    "\n",
    "# 테스트 프로그램\n",
    "def test_binary_search():\n",
    "    # 정렬된 배열 예시\n",
    "    A = [3, 6, 13, 17, 24, 29, 31, 36, 40, 45, 50]\n",
    "    print(\"테스트 배열:\", A)\n",
    "\n",
    "    # 테스트할 key 값 목록\n",
    "    test_keys = [13, 36, 50, 3, 100]  # 100은 없는 값으로 테스트\n",
    "    for key in test_keys:\n",
    "        print(f\"\\n탐색할 key: {key}\")\n",
    "\n",
    "        # 재귀적 이진 탐색 결과\n",
    "        result_recursive = binary_search(A, key, 0, len(A) - 1)\n",
    "        if result_recursive != -1:\n",
    "            print(f\"재귀적 이진 탐색: {key}는 인덱스 {result_recursive}에 위치합니다.\")\n",
    "        else:\n",
    "            print(f\"재귀적 이진 탐색: {key}는 배열에 존재하지 않습니다.\")\n",
    "\n",
    "        # 반복적 이진 탐색 결과\n",
    "        result_iterative = binary_search_iter(A, key, 0, len(A) - 1)\n",
    "        if result_iterative != -1:\n",
    "            print(f\"반복적 이진 탐색: {key}는 인덱스 {result_iterative}에 위치합니다.\")\n",
    "        else:\n",
    "            print(f\"반복적 이진 탐색: {key}는 배열에 존재하지 않습니다.\")\n",
    "\n",
    "# 테스트 프로그램 실행\n",
    "test_binary_search()\n"
   ]
  },
  {
   "cell_type": "markdown",
   "metadata": {
    "id": "Xd-uiEg0nhqN"
   },
   "source": [
    "# 보간 탐색(interpolation search): Monday!!"
   ]
  },
  {
   "cell_type": "code",
   "execution_count": 2,
   "metadata": {
    "id": "M08N3KQynnTL"
   },
   "outputs": [
    {
     "name": "stdout",
     "output_type": "stream",
     "text": [
      "70는 인덱스 6에 위치합니다.\n"
     ]
    }
   ],
   "source": [
    "def interpolation_search(A, key, low, high):\n",
    "    while low <= high:\n",
    "        # 예상 위치 \n",
    "        pos = low + (( key - A[low]) * (high -low)) //  (A[high] - A[low])\n",
    "        # 탐색 성공\n",
    "        if A[pos] == key:\n",
    "            return pos\n",
    "        # 예상 위치보다 큰 경우, 오른쪽 부분 탐색\n",
    "        if A[pos] < key:\n",
    "            low = pos + 1\n",
    "        # 예상 위치보다 작은 경우, 왼쪽 부분 탐색\n",
    "        else:\n",
    "            high = pos - 1\n",
    "    return -1\n",
    "\n",
    "\n",
    "\n",
    "# 테스트 코드\n",
    "if __name__ == \"__main__\":\n",
    "    # 정렬된 배열\n",
    "    A = [10, 20, 30, 40, 50, 60, 70, 80, 90, 100]\n",
    "    key = 70\n",
    "\n",
    "    result = interpolation_search(A, key, 0, len(A) - 1)\n",
    "    if result != -1:\n",
    "        print(f\"{key}는 인덱스 {result}에 위치합니다.\")\n",
    "    else:\n",
    "        print(f\"{key}는 배열에 존재하지 않습니다.\")\n"
   ]
  },
  {
   "cell_type": "markdown",
   "metadata": {
    "id": "X5Cl1o1-cUoM"
   },
   "source": [
    "# # 이진 탐색 트리 (Binary Search Tree)"
   ]
  },
  {
   "cell_type": "code",
   "execution_count": 11,
   "metadata": {
    "id": "a4zIW9sbcYXz"
   },
   "outputs": [],
   "source": [
    "class BSTNode: \n",
    "    # 이진 탐색 트리를 위한 노드 클래스\n",
    "    def __init__(self, key, value):\n",
    "        # 생성자: 키와 값을 받는다 \n",
    "        self.key = key# 키\n",
    "        self.value = value# 키를 제외한 데이터 부분\n",
    "        self.left = None#오른쪽 자식에 대한 링크\n",
    "        self.right = None# 왼쪽 자식에 대한 링크\n",
    "        \n",
    "def search_bst(n, key):\n",
    "    # n을 root로 갖는 이진 탐색 트리에서 킷 값이 ekt인 노드를 찾는 순환 함수이다.\n",
    "    if n == None :\n",
    "        # n이 None이라면 공백 트리를 의미한다. 즉, None을 반환\n",
    "        return None\n",
    "    elif key == n.key:\n",
    "        # n과 key의 값이 같다면 n을 반환.\n",
    "        return n\n",
    "    elif key < n.key:\n",
    "        # 탐색하는 key의 값이 n.key보다 작다면 왼쪽으로 이동\n",
    "        return search_bst(n.left, key)\n",
    "    else:\n",
    "        # 그게 아니라면 오른쪽으로 이동\n",
    "        return search_bst(n.right, key)\n",
    "def search_value_bst(n, value):\n",
    "    # key값이 아니라 값을 통해서 찾는 방법이다\n",
    "    # 트리의 모든 노드를 검사해야 한다.\n",
    "    if n == None:\n",
    "        # 공백트리이면 None을 반환\n",
    "        return None\n",
    "    elif value == n.value :\n",
    "        # 탐색을 성공하면 n을 반환\n",
    "        return n\n",
    "    res = search_value_bst(n.left, value)\n",
    "    # 왼족 서브트리를 탐색하고 탐색을 성공하면 결과를 반환 n을 반환 한다는 것\n",
    "    if res is not None:\n",
    "        return res\n",
    "    else :\n",
    "        # 오른쪽 서브트리를 탐색후 결과를 반환\n",
    "        return search_value_bst(n.right, value)\n",
    "\n",
    "def insert_bst(root, node):\n",
    "    if root == None:\n",
    "        # 공백 노드애 도달하면 도달한 위치에 삽을\n",
    "        return node\n",
    "    if node.key == root.key:\n",
    "        # 동일한 키를 허용하지 않는다\n",
    "        return root\n",
    "    if node.key < root.key:\n",
    "        # 왼쪽에 값을 넣어야 하는 경우 bst를 호출해서 left의 값을 갱신한다.\n",
    "        root.left = insert_bst(root.left, node)\n",
    "    else:\n",
    "        # 오른쪽에 넣어야 하는 경우 bst를 호출해서 right의 값을 갱신한다.\n",
    "        root.right= insert_bst(root.right, node)\n",
    "    return root\n",
    "\n",
    "def delete_bst(root, key):\n",
    "    if root == None:\n",
    "        # 공백 트리 일때\n",
    "        return root\n",
    "    if key < root.key:\n",
    "        # key가 root.key보다 작다면 \n",
    "        root.left = delete_bst(root.left, key)\n",
    "    elif key> root.key:\n",
    "        # key보다 root.key가 크다면\n",
    "        root.right = delete_bst(root.right, key)\n",
    "        # key와 root.key가 같다면 root를 삭제한다.\n",
    "    else:\n",
    "        if root.left == None:\n",
    "            # root의 왼쪽이 단말 node라면 \n",
    "            return root.right\n",
    "        if root.right == None:\n",
    "            # root의 오른쪽이 단말 node라면 \n",
    "            return root.left\n",
    "        # 위 과정에 해당하지 않는다면 이는 양쪽이 자식이 모두 있는 노드를 의미한다.\n",
    "        # root의 오른쪽을 의미한다.\n",
    "        succ = root.right\n",
    "        while succ.left != None:\n",
    "            # root의 오른쪽의 왼쪽 node가 Node 자식이 없는 노드라면 그떄 while 문을 종료한다.\n",
    "            succ = succ.left\n",
    "        # 후계자 노드의 데이터를 복사한다.\n",
    "        root.key = succ.key\n",
    "        root.value = succ.value\n",
    "        # 이후 후계자 노드를 삭제한다.\n",
    "        root.right = delete_bst(root.right, succ.key)\n",
    "    return root\n",
    "# 트리 출력 함수\n",
    "def print_node(msg, n):\n",
    "    if n is not None:\n",
    "        print(f\"{msg}: (key: {n.key}, value: {n.value})\")\n",
    "    else:\n",
    "        print(f\"{msg}: 탐색 실패\")\n",
    "\n",
    "def print_tree(msg, root):\n",
    "    print(msg, end=\"\")\n",
    "    preorder(root)\n",
    "    print()\n",
    "\n",
    "def preorder(n):\n",
    "    if n is not None:\n",
    "        print(f\"({n.key}, {n.value})\", end=\" \")\n",
    "        preorder(n.left)\n",
    "        preorder(n.right)\n",
    "\n"
   ]
  },
  {
   "cell_type": "code",
   "execution_count": 12,
   "metadata": {
    "id": "zSjJlnyUm25O"
   },
   "outputs": [
    {
     "name": "stdout",
     "output_type": "stream",
     "text": [
      "최초 트리: (6, 여섯) (2, 둘) (1, 하나) (0, 영) (4, 넷) (3, 셋) (5, 다섯) (8, 여덟) (7, 일곱) (9, 아홉) \n",
      "search_bst(3): (key: 3, value: 셋)\n",
      "search_bst(8): (key: 8, value: 여덟)\n",
      "search_bst(10): 탐색 실패\n",
      "search_value_bst('둘'): (key: 2, value: 둘)\n",
      "search_value_bst('열'): 탐색 실패\n",
      "\n",
      "삭제 연산 수행\n",
      "del(7): (6, 여섯) (2, 둘) (1, 하나) (0, 영) (4, 넷) (3, 셋) (5, 다섯) (8, 여덟) (9, 아홉) \n",
      "del(8): (6, 여섯) (2, 둘) (1, 하나) (0, 영) (4, 넷) (3, 셋) (5, 다섯) (9, 아홉) \n",
      "del(2): (6, 여섯) (3, 셋) (1, 하나) (0, 영) (4, 넷) (5, 다섯) (9, 아홉) \n",
      "del(6): (9, 아홉) (3, 셋) (1, 하나) (0, 영) (4, 넷) (5, 다섯) \n"
     ]
    }
   ],
   "source": [
    "# 테스트 프로그램\n",
    "data = [(6, \"여섯\"), (8, \"여덟\"), (2, \"둘\"), (4, \"넷\"), (7, \"일곱\"), (5, \"다섯\"), (1, \"하나\"), (9, \"아홉\"), (3, \"셋\"), (0, \"영\")]\n",
    "root = None\n",
    "\n",
    "# 데이터 삽입\n",
    "root = None\n",
    "for i in range(0, len(data)):\n",
    "    root = insert_bst(root, BSTNode(data[i][0], data[i][1]))\n",
    "\n",
    "# 트리 상태 출력\n",
    "print_tree(\"최초 트리: \", root)\n",
    "\n",
    "# 탐색 테스트\n",
    "n = search_bst(root, 3)\n",
    "print_node(\"search_bst(3)\", n)\n",
    "n = search_bst(root, 8)\n",
    "print_node(\"search_bst(8)\", n)\n",
    "n = search_bst(root, 10)\n",
    "print_node(\"search_bst(10)\", n)\n",
    "n = search_value_bst(root, \"둘\")\n",
    "print_node(\"search_value_bst('둘')\", n)\n",
    "n = search_value_bst(root, \"열\")\n",
    "print_node(\"search_value_bst('열')\", n)\n",
    "\n",
    "# 삭제 테스트\n",
    "print(\"\\n삭제 연산 수행\")\n",
    "root = delete_bst(root, 7)\n",
    "print_tree(\"del(7): \", root)\n",
    "root = delete_bst(root, 8)\n",
    "print_tree(\"del(8): \", root)\n",
    "root = delete_bst(root, 2)\n",
    "print_tree(\"del(2): \", root)\n",
    "root = delete_bst(root, 6)\n",
    "print_tree(\"del(6): \", root)\n"
   ]
  },
  {
   "cell_type": "markdown",
   "metadata": {},
   "source": [
    "복잡도 분석한거 외우기 시험에 나옵니다잉"
   ]
  },
  {
   "cell_type": "code",
   "execution_count": null,
   "metadata": {},
   "outputs": [],
   "source": []
  }
 ],
 "metadata": {
  "colab": {
   "provenance": []
  },
  "kernelspec": {
   "display_name": "Python 3 (ipykernel)",
   "language": "python",
   "name": "python3"
  },
  "language_info": {
   "codemirror_mode": {
    "name": "ipython",
    "version": 3
   },
   "file_extension": ".py",
   "mimetype": "text/x-python",
   "name": "python",
   "nbconvert_exporter": "python",
   "pygments_lexer": "ipython3",
   "version": "3.12.4"
  }
 },
 "nbformat": 4,
 "nbformat_minor": 4
}
