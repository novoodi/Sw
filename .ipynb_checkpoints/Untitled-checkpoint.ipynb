{
 "cells": [
  {
   "cell_type": "markdown",
   "id": "9d0083c8-493a-4b01-974c-50b4e76b0457",
   "metadata": {},
   "source": [
    "코드 연습하기\n"
   ]
  },
  {
   "cell_type": "code",
   "execution_count": 2,
   "id": "df649654-12a5-4fc6-b113-94e8bdc226ca",
   "metadata": {},
   "outputs": [],
   "source": [
    "# 링버퍼 큐\n",
    "class RingQueue:\n",
    "    def __init__(self, capacity):\n",
    "        self.capacity = capacity\n",
    "        self.array = [None] * capacity\n",
    "        self.front = 0\n",
    "        self.rear = 0\n",
    "    def isEmpty(self):\n",
    "        return self.front == self.rear\n",
    "    def isFull(self):\n",
    "        return self.front == (self.rear + 1) % self.capacity\n",
    "    def enqueue(self, item):\n",
    "        if not self.isFull():\n",
    "            self.rear = (self.rear + 1)% self.capacity\n",
    "            self.array[self.rear] = item\n",
    "        else:\n",
    "            pass\n",
    "    def dequeue(self):\n",
    "        if not self.isEmpty():\n",
    "            self.front = (self.front+1)%self.capacity\n",
    "            item = self.array[self.front]\n",
    "            self.array[self.front] = None\n",
    "            return item\n",
    "        else:\n",
    "            print(\"빈공간임\")\n",
    "            return None\n",
    "    def size(self):\n",
    "        return self.rear - self.front + self.capacity\n",
    "    def disply(self, msg = \"Queue\"):\n",
    "        print(msg, end = \"[\")\n",
    "        for i in range(self.front+1, self.front+1+self.size()):\n",
    "            print(self.array[ i % self.capacity], end =\" \")\n",
    "        print(\"]\")\n",
    "    def enqueue2(self, item):\n",
    "        self.rear = (self.rear + 1) % self.capacity\n",
    "        self.array[self.rear] = item\n",
    "        if not self.isFull():\n",
    "            self.front = (self.front+1) % self.capacity\n",
    "        \n",
    "        \n",
    "    "
   ]
  },
  {
   "cell_type": "code",
   "execution_count": null,
   "id": "4d2b5f3f-dd23-4af0-8912-b80e41f0c0e6",
   "metadata": {},
   "outputs": [],
   "source": [
    "class Node:\n",
    "    def __init__(self, elem, next=None):\n",
    "        self.head = elem\n",
    "        self.link = next\n",
    "    def append(self, node):\n",
    "        if node is not None:\n",
    "            node.link = self.link\n",
    "            self.link = node\n",
    "    def popNext(self):\n",
    "        next = self.link\n",
    "        if next is not None:\n",
    "            self.link = next.link\n",
    "        return next\n",
    "class LinkedList:\n",
    "    def __init_(self):\n",
    "        self.head = None\n",
    "    def isEmpty(self):\n",
    "        return self.head == None\n",
    "    def isFull(self):\n",
    "        return False\n",
    "    def getNode(self, pos):\n",
    "        if pos < 0:\n",
    "            return None\n",
    "        ptr = self.head\n",
    "        for i in range(pos):\n",
    "            if ptr == None:\n",
    "                return None\n",
    "            ptr = ptr.link\n",
    "        return ptr\n",
    "    def getEntry(self, pos):\n",
    "        node = self.getNode(pos)\n",
    "        if node == None:\n",
    "            return None\n",
    "        else:\n",
    "            return node.data\n",
    "    def replace(self, pos, elem):\n",
    "        node = self.getNode(pos)\n",
    "        if node == None:\n",
    "            return None\n",
    "        else:\n",
    "            node.data = elem\n",
    "    def size(self):\n",
    "        ptr = self.head\n",
    "        count = 0\n",
    "        while ptr is not None:\n",
    "            ptr = ptr.link\n",
    "            count +=1\n",
    "        return count\n",
    "    def display(self, msg = \"LinkedList: \"):\n",
    "        print(msg, end = \" \")\n",
    "        ptr = self.head\n",
    "        while ptr is not None:\n",
    "            print(self.data, end =\"->\")\n",
    "            ptr = ptr.link\n",
    "        print(\"None\")\n",
    "    def insert(self, pos, elem):\n",
    "        node = Node(elem, None)\n",
    "        before = self.getNode(pos-1)\n",
    "        if before == None:\n",
    "            node.link = self.link\n",
    "            self.link = node\n",
    "        else:\n",
    "            return self.append(node)\n",
    "    def delete(self, pos):\n",
    "        before = self.getNode(pos-1)\n",
    "        if before == None:\n",
    "            if self.head is not None:\n",
    "                self.head = self.head.link\n",
    "        else:\n",
    "            before.popNext()"
   ]
  },
  {
   "cell_type": "code",
   "execution_count": 5,
   "id": "9da37b4d-b6c0-44c9-a1b4-c6f4edf05c38",
   "metadata": {},
   "outputs": [
    {
     "name": "stdin",
     "output_type": "stream",
     "text": [
      "입력하시오 asd\n"
     ]
    },
    {
     "name": "stdout",
     "output_type": "stream",
     "text": [
      "문자열 데이터 춮력\n",
      "dsa"
     ]
    }
   ],
   "source": [
    "class ArrayStack:\n",
    "    def __init__(self, capacity=10):\n",
    "        self.capacity = capacity\n",
    "        self.array = [None] * capacity\n",
    "        self.top = -1\n",
    "    def isFull(self):\n",
    "        return self.top == self.capacity -1\n",
    "    def isEmpty(self):\n",
    "        return self.top == -1\n",
    "    def insert(self, item):\n",
    "        if not self.isFull():\n",
    "            self.top +=1\n",
    "            self.array[self.top] = item\n",
    "        else:\n",
    "            print(\"꽉참\")\n",
    "    def delete(self):\n",
    "        if not self.isEmpty():\n",
    "            item = self.array[self.top]\n",
    "            self.top -=1\n",
    "            #self.array[self.top] =None\n",
    "            return item\n",
    "        else:\n",
    "            print(\"비어있음\")\n",
    "def main():\n",
    "    msg = input(\"입력하시오\")\n",
    "    stack = ArrayStack(len(msg))\n",
    "    for c in msg:\n",
    "        stack.insert(c)\n",
    "    print(\"문자열 데이터 춮력\")\n",
    "    while not stack.isEmpty():\n",
    "        print(stack.delete(), end=\"\")\n",
    "if __name__ == \"__main__\":\n",
    "    main()"
   ]
  },
  {
   "cell_type": "code",
   "execution_count": 6,
   "id": "e89534c0-f0b3-4a42-a7f1-4eb5f1a681f3",
   "metadata": {},
   "outputs": [
    {
     "name": "stdin",
     "output_type": "stream",
     "text": [
      " asd\n"
     ]
    },
    {
     "name": "stdout",
     "output_type": "stream",
     "text": [
      "d"
     ]
    },
    {
     "ename": "NameError",
     "evalue": "name 'mas' is not defined",
     "output_type": "error",
     "traceback": [
      "\u001b[1;31m---------------------------------------------------------------------------\u001b[0m",
      "\u001b[1;31mNameError\u001b[0m                                 Traceback (most recent call last)",
      "Cell \u001b[1;32mIn[6], line 7\u001b[0m\n\u001b[0;32m      5\u001b[0m         printReverce(mas, \u001b[38;5;28mlen\u001b[39m\u001b[38;5;241m-\u001b[39m\u001b[38;5;241m1\u001b[39m)\n\u001b[0;32m      6\u001b[0m insert \u001b[38;5;241m=\u001b[39m \u001b[38;5;28minput\u001b[39m(\u001b[38;5;124m\"\u001b[39m\u001b[38;5;124m\"\u001b[39m)\n\u001b[1;32m----> 7\u001b[0m \u001b[43mprintReverce\u001b[49m\u001b[43m(\u001b[49m\u001b[43minsert\u001b[49m\u001b[43m,\u001b[49m\u001b[43m \u001b[49m\u001b[38;5;28;43mlen\u001b[39;49m\u001b[43m(\u001b[49m\u001b[43minsert\u001b[49m\u001b[43m)\u001b[49m\u001b[43m)\u001b[49m\n",
      "Cell \u001b[1;32mIn[6], line 5\u001b[0m, in \u001b[0;36mprintReverce\u001b[1;34m(msg, len)\u001b[0m\n\u001b[0;32m      3\u001b[0m \u001b[38;5;28;01mif\u001b[39;00m \u001b[38;5;28mlen\u001b[39m \u001b[38;5;241m>\u001b[39m \u001b[38;5;241m0\u001b[39m:\n\u001b[0;32m      4\u001b[0m     \u001b[38;5;28mprint\u001b[39m(msg[\u001b[38;5;28mlen\u001b[39m\u001b[38;5;241m-\u001b[39m\u001b[38;5;241m1\u001b[39m], end \u001b[38;5;241m=\u001b[39m\u001b[38;5;124m\"\u001b[39m\u001b[38;5;124m\"\u001b[39m)\n\u001b[1;32m----> 5\u001b[0m     printReverce(\u001b[43mmas\u001b[49m, \u001b[38;5;28mlen\u001b[39m\u001b[38;5;241m-\u001b[39m\u001b[38;5;241m1\u001b[39m)\n",
      "\u001b[1;31mNameError\u001b[0m: name 'mas' is not defined"
     ]
    }
   ],
   "source": [
    "# 이거를 재귀 함수를 사용해서 만드는법 \n",
    "def printReverce(msg, len):\n",
    "    if len > 0:\n",
    "        print(msg[len-1], end =\"\")\n",
    "        printReverce(msg, len-1)\n",
    "insert = input(\"\")\n",
    "printReverce(insert, len(insert))"
   ]
  },
  {
   "cell_type": "code",
   "execution_count": null,
   "id": "0538dd99-d88e-4838-8fb8-46c99b0f438d",
   "metadata": {},
   "outputs": [],
   "source": []
  }
 ],
 "metadata": {
  "kernelspec": {
   "display_name": "Python 3 (ipykernel)",
   "language": "python",
   "name": "python3"
  },
  "language_info": {
   "codemirror_mode": {
    "name": "ipython",
    "version": 3
   },
   "file_extension": ".py",
   "mimetype": "text/x-python",
   "name": "python",
   "nbconvert_exporter": "python",
   "pygments_lexer": "ipython3",
   "version": "3.11.8"
  }
 },
 "nbformat": 4,
 "nbformat_minor": 5
}
