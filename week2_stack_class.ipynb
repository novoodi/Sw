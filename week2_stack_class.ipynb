{
 "cells": [
  {
   "cell_type": "code",
   "execution_count": 14,
   "metadata": {
    "id": "kD12PM1XvynO"
   },
   "outputs": [
    {
     "name": "stdin",
     "output_type": "stream",
     "text": [
      "문자열 입력:  asd\n"
     ]
    },
    {
     "name": "stdout",
     "output_type": "stream",
     "text": [
      "문자열 출력: dsa\n"
     ]
    }
   ],
   "source": [
    "# 우선 순위\n",
    "# 1, 정렬문제\n",
    "# 2. 탐색문\n",
    "# 3. 최단 경로 문제 \n",
    "#  DP -> 다이나믹 프로그래밍 -> \n",
    "# d&C 디바이드엔 컨커\n",
    "# 구현 방식 -> for loop or 순환적 (재귀적)\n",
    "#=========================================================\n",
    "# 코드 1.1a: 스택을 위한 데이터\n",
    "capacity = 10            # 스택 용량: 예) 용량을 10으로 지정\n",
    "array = [None]*capacity  # 요소 배열: [None, ..., None] (길이가 capacity)\n",
    "top = -1                 # 상단의 인덱스: 공백상태(-1)로 초기화 함\n",
    "\n",
    "# 코드 1.1b: 스택의 공백상태와 포화상태 검사\n",
    "# def isEmpy() : return top ==-1\n",
    "def isEmpty( ) :\n",
    "    # 공백 상태일 때 tap은 -1이다.\n",
    "    if top == -1 : return True\t# 공백이면 True 반환\n",
    "    else : return False\t\t\t# 아니면 False 반환\n",
    "\n",
    "def isFull( ) :\n",
    "    return top == capacity-1\t# 비교 연산 결과를 바로 반환\n",
    "\n",
    "# 코드 1.1c: 스택의 삽입 연산\n",
    "def push( item ) :\n",
    "    global top\n",
    "    if not isFull() :\t\t    # 포화상태가 아닌 경우\n",
    "        top += 1\t\t\t    # top 증가(global top 선언 필요)\n",
    "        array[top] = item\n",
    "    else :\t\t\t            # 포화상태: overflow\n",
    "        print(\"stack overflow\")\n",
    "        exit()\n",
    "\n",
    "# 코드 1.1d: 스택의 삭제 연산\n",
    "def pop( ) :\n",
    "    global top\n",
    "    if not isEmpty():\t\t    # 공백상태가 아닌 경우\n",
    "        top -= 1\t\t\t    # top 감소(global top 선언 필요)\n",
    "        return array[top+1]\n",
    "    else:\t\t\t            # 공백상태: underflow\n",
    "        print(\"stack underflow\")\n",
    "        exit()\n",
    "\n",
    "# 코드 1.1e: 스택의 peek() 연산\n",
    "def peek( ) :\n",
    "    if not isEmpty():\t\t    # 공백상태가 아닌 경우\n",
    "        return array[top]\n",
    "    else: pass\t\t\t        # underflow 예외는 처리하지 않았음\n",
    "\n",
    "# 코드 1.1f: 스택의 size() 연산\n",
    "def size( ) : return top+1\t    # 현재 요소의 수는 top+1\n",
    "\n",
    "\n",
    "#=========================================================\n",
    "# 이 파일이 직접 실행될 때에는 다음 문장들을 실행함.\n",
    "# 다른 파일에서 모듈로 불려지는 경우는 실행되지 않음.\n",
    "#=========================================================\n",
    "\n",
    "if __name__ == \"__main__\":\n",
    "    msg = input(\"문자열 입력: \")   # 문자열을 입력받음\n",
    "    for c in msg :                # 문자열의 각 문자 c에 대해\n",
    "        push(c)                   # c를 스택에 삽입\n",
    "\n",
    "    print(\"문자열 출력: \", end='')\n",
    "    while not isEmpty():          # 스택이 공백상태가 아니라면\n",
    "        print(pop(), end='')      # 하나의 요소를 꺼내서 출력\n",
    "    print()\n",
    "\n",
    "# 기존 스택 코드에 추가: 순서대로 출력하기\n",
    "# if __name__ == \"__main__\":\n",
    "#     msg = input(\"문자열 입력: \")\n",
    "#     temp_list = []  # 임시로 저장할 리스트\n",
    "\n",
    "#     for c in msg:\n",
    "#         push(c)  # 스택에 삽입\n",
    "\n",
    "#     while not isEmpty():\n",
    "#         temp_list.append(pop())  # 스택에서 pop한 요소를 임시 리스트에 저장\n",
    "\n",
    "#     print(\"문자열 출력: \", end='')\n",
    "#     for c in reversed(temp_list):  # 리스트를 역순으로 출력\n",
    "#         print(c, end='')  # 순서대로 출력\n",
    "#     print()\n",
    "\n",
    "\n"
   ]
  },
  {
   "cell_type": "markdown",
   "metadata": {},
   "source": [
    "## oop 프로그래망 방식으로 스택을 클래스로 설계"
   ]
  },
  {
   "cell_type": "code",
   "execution_count": 2,
   "metadata": {},
   "outputs": [
    {
     "name": "stdin",
     "output_type": "stream",
     "text": [
      "문자열 또는 숫자열 입력:  ㅁㄴㅇ\n"
     ]
    },
    {
     "ename": "NameError",
     "evalue": "name 'capacity' is not defined",
     "output_type": "error",
     "traceback": [
      "\u001b[1;31m---------------------------------------------------------------------------\u001b[0m",
      "\u001b[1;31mNameError\u001b[0m                                 Traceback (most recent call last)",
      "Cell \u001b[1;32mIn[2], line 48\u001b[0m\n\u001b[0;32m     46\u001b[0m             \u001b[38;5;28mprint\u001b[39m(stack\u001b[38;5;241m.\u001b[39mpop(), end\u001b[38;5;241m=\u001b[39m\u001b[38;5;124m'\u001b[39m\u001b[38;5;124m'\u001b[39m)\n\u001b[0;32m     47\u001b[0m \u001b[38;5;28;01mif\u001b[39;00m \u001b[38;5;18m__name__\u001b[39m \u001b[38;5;241m==\u001b[39m \u001b[38;5;124m\"\u001b[39m\u001b[38;5;124m__main__\u001b[39m\u001b[38;5;124m\"\u001b[39m:\n\u001b[1;32m---> 48\u001b[0m     \u001b[43mmain\u001b[49m\u001b[43m(\u001b[49m\u001b[43m)\u001b[49m\n",
      "Cell \u001b[1;32mIn[2], line 42\u001b[0m, in \u001b[0;36mmain\u001b[1;34m()\u001b[0m\n\u001b[0;32m     40\u001b[0m     stack \u001b[38;5;241m=\u001b[39m ArrayStack(\u001b[38;5;241m5\u001b[39m) \u001b[38;5;66;03m# 5개의 용량을 가지고 있는 스택이다. 스택 객체 생성\u001b[39;00m\n\u001b[0;32m     41\u001b[0m     \u001b[38;5;28;01mfor\u001b[39;00m c \u001b[38;5;129;01min\u001b[39;00m msg :             \n\u001b[1;32m---> 42\u001b[0m         \u001b[43mstack\u001b[49m\u001b[38;5;241;43m.\u001b[39;49m\u001b[43mpush\u001b[49m\u001b[43m(\u001b[49m\u001b[43mc\u001b[49m\u001b[43m)\u001b[49m               \n\u001b[0;32m     43\u001b[0m \u001b[38;5;66;03m# 스텍에 저장된 데이터를 출력하기\u001b[39;00m\n\u001b[0;32m     44\u001b[0m     \u001b[38;5;28mprint\u001b[39m(\u001b[38;5;124m\"\u001b[39m\u001b[38;5;124m문자열 출력: \u001b[39m\u001b[38;5;124m\"\u001b[39m, end\u001b[38;5;241m=\u001b[39m\u001b[38;5;124m'\u001b[39m\u001b[38;5;124m'\u001b[39m)\n",
      "Cell \u001b[1;32mIn[2], line 14\u001b[0m, in \u001b[0;36mArrayStack.push\u001b[1;34m(slef, item)\u001b[0m\n\u001b[0;32m     13\u001b[0m \u001b[38;5;28;01mdef\u001b[39;00m \u001b[38;5;21mpush\u001b[39m(slef, item) :\n\u001b[1;32m---> 14\u001b[0m     \u001b[38;5;28;01mif\u001b[39;00m \u001b[38;5;129;01mnot\u001b[39;00m \u001b[43mslef\u001b[49m\u001b[38;5;241;43m.\u001b[39;49m\u001b[43misFull\u001b[49m\u001b[43m(\u001b[49m\u001b[43m)\u001b[49m :\n\u001b[0;32m     15\u001b[0m         \u001b[38;5;66;03m#한칸 위로 올린다고 생각하면 된다 TOP은 스택의 위치를 보여주는 거다.\u001b[39;00m\n\u001b[0;32m     16\u001b[0m         slef\u001b[38;5;241m.\u001b[39mtop \u001b[38;5;241m+\u001b[39m\u001b[38;5;241m=\u001b[39m \u001b[38;5;241m1\u001b[39m\t  \n\u001b[0;32m     17\u001b[0m         slef\u001b[38;5;241m.\u001b[39marray[slef\u001b[38;5;241m.\u001b[39mtop] \u001b[38;5;241m=\u001b[39m item\n",
      "Cell \u001b[1;32mIn[2], line 11\u001b[0m, in \u001b[0;36mArrayStack.isFull\u001b[1;34m(slef)\u001b[0m\n\u001b[0;32m     10\u001b[0m \u001b[38;5;28;01mdef\u001b[39;00m \u001b[38;5;21misFull\u001b[39m(slef) :\n\u001b[1;32m---> 11\u001b[0m     \u001b[38;5;28;01mreturn\u001b[39;00m slef\u001b[38;5;241m.\u001b[39mtop \u001b[38;5;241m==\u001b[39m \u001b[43mcapacity\u001b[49m\u001b[38;5;241m-\u001b[39m\u001b[38;5;241m1\u001b[39m\n",
      "\u001b[1;31mNameError\u001b[0m: name 'capacity' is not defined"
     ]
    }
   ],
   "source": [
    "class ArrayStack: #클랴스 내부에서 생성시 self를 사용해야함\n",
    "    def __init__(slef, capacity=10):\n",
    "        slef.capacity = capacity           \n",
    "        slef.array = [None]*capacity  \n",
    "        slef.top = -1              \n",
    "    # 스택의 공백 상태 학인 \n",
    "    def isEmpty(slef) :\n",
    "        return slef.top ==-1\n",
    "    # 스택의 포화 상태를 확인\n",
    "    def isFull(slef) :\n",
    "        return slef.top == capacity-1\n",
    "    # 스탹의 삽입과 연산\n",
    "    def push(slef, item) :\n",
    "        if not slef.isFull() :\n",
    "            #한칸 위로 올린다고 생각하면 된다 TOP은 스택의 위치를 보여주는 거다.\n",
    "            slef.top += 1\t  \n",
    "            slef.array[slef.top] = item\n",
    "        else :\t\t\t           \n",
    "            print(\"stack overflow\")\n",
    "            exit()\n",
    "    def pop(slef) :\n",
    "        if not slef.isEmpty():\t\t  \n",
    "            slef.top -= 1\t\t\t  \n",
    "            return slef.array[slef.top+1]\n",
    "        else:\t\t\t          \n",
    "            print(\"stack underflow\")\n",
    "            exit()\n",
    "    # 스택의 위치 확인\n",
    "    def peek(slef) :\n",
    "        if not slef.isEmpty():\n",
    "            return slef.array[slef.top]\n",
    "        else: pass\n",
    "    # 크기 확인\n",
    "    def size(slef) : return slef.top+1\n",
    "# 코드 출력 -> 역순으로 출력하는 메인 함수\n",
    "def main():\n",
    "    # 입력 데이커 동적으로 입력 받기ㄱ\n",
    "        msg = input(\"문자열 또는 숫자열 입력: \")\n",
    "    # 사용자 정의 스택을 아용해서 스택에 저장한다.\n",
    "        stack = ArrayStack(5) # 5개의 용량을 가지고 있는 스택이다. 스택 객체 생성\n",
    "        for c in msg :             \n",
    "            stack.push(c)               \n",
    "    # 스텍에 저장된 데이터를 출력하기\n",
    "        print(\"문자열 출력: \", end='')\n",
    "        while not stack.isEmpty():         \n",
    "            print(stack.pop(), end='')\n",
    "if __name__ == \"__main__\":\n",
    "    main()\n"
   ]
  },
  {
   "cell_type": "markdown",
   "metadata": {},
   "source": [
    "## 파이썬 리스트와 모듈을 이용허여 입력 데이터 역순으로 출력\n",
    "\\"
   ]
  },
  {
   "cell_type": "code",
   "execution_count": 35,
   "metadata": {},
   "outputs": [],
   "source": [
    "# 파이썬 데이터 타입 : list 이용\n",
    "# list는 스택으로 구현된 데이터 타입"
   ]
  },
  {
   "cell_type": "code",
   "execution_count": 15,
   "metadata": {},
   "outputs": [
    {
     "name": "stdin",
     "output_type": "stream",
     "text": [
      "문자열 또는 숫자열 입력:  asd\n"
     ]
    },
    {
     "name": "stdout",
     "output_type": "stream",
     "text": [
      "dsa"
     ]
    }
   ],
   "source": [
    "stack =  list() # 무한하게 들어갈수 있다.\n",
    "msg = input(\"문자열 또는 숫자열 입력: \")\n",
    "for c in msg:\n",
    "    stack.append(c)\n",
    "while len(stack)>0:\n",
    "    print(stack.pop(), end='')"
   ]
  },
  {
   "cell_type": "code",
   "execution_count": 2,
   "metadata": {},
   "outputs": [
    {
     "name": "stdin",
     "output_type": "stream",
     "text": [
      "입력해 시발\n"
     ]
    },
    {
     "name": "stdout",
     "output_type": "stream",
     "text": [
      "발시"
     ]
    }
   ],
   "source": [
    "def printReverse(msg, len):\n",
    "    \"\"\" 김정현식 초간단 설명\n",
    "        해당 자료구조의 길이는 총 4이다.\n",
    "        즉, 거꾸로 출력하기 위해서는 인덱스 번호로 보면 0,1,2,3인것\n",
    "        그래서 print를 할대 msg[len-1]을 하는것 \n",
    "    \"\"\"\n",
    "    if len > 0:\n",
    "        print(msg[len-1], end = \"\")\n",
    "        printReverse(msg, len-1)\n",
    "instr = input(\"입력해\")\n",
    "printReverse(instr, len(instr))"
   ]
  },
  {
   "cell_type": "code",
   "execution_count": 20,
   "metadata": {},
   "outputs": [
    {
     "name": "stdin",
     "output_type": "stream",
     "text": [
      "입력해 asd\n"
     ]
    },
    {
     "name": "stdout",
     "output_type": "stream",
     "text": [
      "dsa"
     ]
    }
   ],
   "source": [
    "stk =list()\n",
    "msg = input(\"입력해\")\n",
    "for c in msg :\n",
    "    stk.append(c)\n",
    "while len(stk)>0:\n",
    "    print(stk.pop(), end='')\n",
    "#이게 이제 파이썬 모듈을 사용한 스택의 활"
   ]
  },
  {
   "cell_type": "markdown",
   "metadata": {},
   "source": [
    "## 파이썬 라이브로리 : queue라는 모듈에 스택과 큐가 포함되어 았다.\n",
    "## 스택 LifoQueue\n",
    "import queue\n",
    "\n",
    "stack = queue.LifoQueue(maxsize=100)\n",
    "msg = input(\"문자열 또는 숫자열 입력: \")\n",
    "for c in msg:\n",
    "    stack.put(c)\n",
    "while not stack.empty():\n",
    "    print(stack.get(), end='')"
   ]
  },
  {
   "cell_type": "code",
   "execution_count": 3,
   "metadata": {
    "id": "PJqzPvjyOp-1"
   },
   "outputs": [],
   "source": [
    "#=========================================================\n",
    "# 코드 1.7: 반복 구조의 팩토리얼 함수\n",
    "\n",
    "def factorial_iter(n) :\n",
    "    result = 1\n",
    "    for k in range(2, n+1) :\t# k: 2, ..., n\n",
    "        result = result * k\t# result에 반복적으로 곱함\n",
    "    return result\n",
    "\n",
    "\n",
    "#=========================================================\n",
    "# 코드 1.8: 순환 구조의 팩토리얼 함수\n",
    "\n",
    "def factorial(n) :\t\t# 순환적으로 구현한 factorial 함수\n",
    "    if n == 1 : return 1\t\t# 종료 조건: 순환을 멈추는 부분\n",
    "    else :\n",
    "        return n * factorial(n - 1)\t# 자신을 순환적으로 호출\n",
    "\n"
   ]
  },
  {
   "cell_type": "markdown",
   "metadata": {},
   "source": [
    "https://docs.python.org/3.12/library/queue.html#module-queue\n",
    "# 모르는 모듈 나오면 찾아보기"
   ]
  },
  {
   "cell_type": "code",
   "execution_count": 4,
   "metadata": {},
   "outputs": [
    {
     "name": "stdout",
     "output_type": "stream",
     "text": [
      "[0, 9, 12, 18]\n"
     ]
    }
   ],
   "source": [
    "class Stack:\n",
    "    def __init__(self):\n",
    "        self.items = []\n",
    "\n",
    "    def push(self, item):\n",
    "        self.items.append(item)\n",
    "\n",
    "    def pop(self):\n",
    "        if not self.is_empty():\n",
    "            return self.items.pop()\n",
    "        else:\n",
    "            print(\"Stack is empty. Cannot pop.\")\n",
    "            return None\n",
    "\n",
    "    def is_empty(self):\n",
    "        return len(self.items) == 0\n",
    "\n",
    "    def __str__(self):\n",
    "        return str(self.items)\n",
    "\n",
    "\n",
    "# Stack 인스턴스 생성\n",
    "val = Stack()\n",
    "\n",
    "# 20번 반복\n",
    "for i in range(20):\n",
    "    if i % 3 == 0:\n",
    "        val.push(i)\n",
    "    elif i % 4 == 0:\n",
    "        val.pop()\n",
    "\n",
    "# 결과 출력\n",
    "print(val)\n"
   ]
  },
  {
   "cell_type": "code",
   "execution_count": null,
   "metadata": {},
   "outputs": [],
   "source": []
  }
 ],
 "metadata": {
  "colab": {
   "provenance": []
  },
  "kernelspec": {
   "display_name": "Python 3 (ipykernel)",
   "language": "python",
   "name": "python3"
  },
  "language_info": {
   "codemirror_mode": {
    "name": "ipython",
    "version": 3
   },
   "file_extension": ".py",
   "mimetype": "text/x-python",
   "name": "python",
   "nbconvert_exporter": "python",
   "pygments_lexer": "ipython3",
   "version": "3.11.8"
  }
 },
 "nbformat": 4,
 "nbformat_minor": 4
}
