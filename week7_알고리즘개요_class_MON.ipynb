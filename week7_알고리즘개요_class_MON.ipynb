{
 "cells": [
  {
   "cell_type": "markdown",
   "metadata": {
    "id": "r0qORcmgWaC6"
   },
   "source": [
    "# 4장 트리"
   ]
  },
  {
   "cell_type": "code",
   "execution_count": 1,
   "metadata": {
    "id": "vf5rDrYAbmG5"
   },
   "outputs": [],
   "source": [
    "# BinaryTree\n",
    "\n",
    "class BTNode:\n",
    "    def __init__ (self, elem, left=None, right=None):\n",
    "        self.data = elem\n",
    "        self.left = left        # 왼쪽 자식을 위한 링크\n",
    "        self.right = right      # 오른쪽 자식을 위한 링크\n",
    "\n",
    "    def isLeaf(self):\n",
    "        return self.left is None and self.right is None # 수식 트리의 단말 노드 처리\n",
    "\n",
    "def preorder(n) :\n",
    "    if n is not None :\n",
    "        print('(', end=' ')     # 중첩된 괄호 표현을 위한 출력\n",
    "        print(n.data, end=' ')\n",
    "        preorder(n.left)\n",
    "        preorder(n.right)\n",
    "        print(')', end=' ')     # 중첩된 괄호 표현을 위한 출력\n",
    "\n",
    "# 코드 4.3: 이진트리의 중위 순회\n",
    "def inorder(n) :\n",
    "    if n is not None :\n",
    "        inorder(n.left)\n",
    "        print(n.data, end=' ')\n",
    "        inorder(n.right)\n",
    "\n",
    "# 코드 4.4: 이진트리의 후위 순회\n",
    "def postorder(n) :\n",
    "    if n is not None :\n",
    "        postorder(n.left)\n",
    "        postorder(n.right)\n",
    "        print(n.data, end=' ')\n",
    "\n"
   ]
  },
  {
   "cell_type": "code",
   "execution_count": 3,
   "metadata": {
    "id": "BNstXktfVhbZ"
   },
   "outputs": [
    {
     "name": "stdin",
     "output_type": "stream",
     "text": [
      "입력 문장 :  SOS\n"
     ]
    },
    {
     "name": "stdout",
     "output_type": "stream",
     "text": [
      "Morse Code:  ['...', '---', '...']\n",
      "Decoding  : SOS\n"
     ]
    }
   ],
   "source": [
    "#=========================================================\n",
    "# 모스코드 결정트리\n",
    "#=========================================================\n",
    "# 코드 4.9: 영어 대문자에 대한 모스코드 표\n",
    "# 튜플로 되어있는 리스트 \n",
    "table =[('A', '.-'),    ('B', '-...'),  ('C', '-.-.'),  ('D', '-..'),\n",
    "        ('E', '.'),     ('F', '..-.'),  ('G', '--.'),   ('H', '....'),\n",
    "        ('I', '..'),    ('J', '.---'),  ('K', '-.-'),   ('L', '.-..'),\n",
    "        ('M', '--'),    ('N', '-.'),    ('O', '---'),   ('P', '.--.'),\n",
    "        ('Q', '--.-'),  ('R', '.-.'),   ('S', '...'),   ('T', '-'),\n",
    "        ('U', '..-'),   ('V', '...-'),  ('W', '.--'),   ('X', '-..-'),\n",
    "        ('Y', '-.--'),  ('Z', '--..') ]\n",
    "\n",
    "\n",
    "# 코드 4.10: 모스코드 인코딩 함수\n",
    "def encode(ch):\n",
    "    idx = ord(ch.upper())-ord('A')# 소문자를 대문자로 변경 \n",
    "    return table[idx][1]\n",
    "\n",
    "# 코드 4.11: 단순한 방법의 모스코드 디코딩 함수=> O(n)은 모스코드의 테이블 크기\n",
    "def decode_simple(morse):\n",
    "    for tp in table :               # 모스 코드 표의 모든 문자에 대해\n",
    "        if morse == tp[1] :         # 찾는 코드와 같으면\n",
    "            return tp[0]            # 그 코드의 문자를 반환\n",
    "\n",
    "# 코드 4.12: 모스코드 디코딩을 위한 결정트리 만들기\n",
    "# table 크기에 비례하기 때문에 비효율 적인 디코딩 함수 이다.\n",
    "#O(n)\n",
    "def decode_simple(morse):\n",
    "    for tp in table:\n",
    "        if morse == tp[1]:\n",
    "            return tp[0]\n",
    "# 코드 4.13: 결정트리를 이용한 디코딩 함수\n",
    "def decode(root, code): \n",
    "    node = root\n",
    "    for c in code :\n",
    "        if c == '.': node = node.left\n",
    "        elif c== '-': node = node.right\n",
    "    return node.data\n",
    "# O(트리의 높아) = O(h) -> 상수로 표현\n",
    "# O(n) -> n은 모스코드의 길이(최대 값이므로 상수 시간이 걸린다.) => O(1)\n",
    "# O(n*h) -> O(n)\n",
    "def make_morse_tree():\n",
    "    root = BTNode(None, None, None)\n",
    "    for tp in table:\n",
    "        node = root\n",
    "        code = tp[1]\n",
    "        for c in code :\n",
    "            if c == '.':\n",
    "                if node.left == None:\n",
    "                    node.left = BTNode(None,None,None)\n",
    "                node = node.left\n",
    "            elif c == '-':\n",
    "                if node.right == None:\n",
    "                    node.right = BTNode(None,None,None)\n",
    "                node = node.right\n",
    "        node.data = tp[0]\n",
    "    return root\n",
    "# 코드 4.14: 인코딩과 디코딩 테스트 프로그램\n",
    "morseCodeTree = make_morse_tree()\n",
    "str = input(\"입력 문장 : \")\n",
    "mlist = [] # 큐 사용 -> 순서대로 나와야하니깐 \n",
    "for ch in str:\n",
    "    code = encode(ch)\n",
    "    mlist.append(code)\n",
    "print(\"Morse Code: \", mlist)\n",
    "print(\"Decoding  : \", end='')\n",
    "for code in mlist:\n",
    "    ch = decode(morseCodeTree, code)\n",
    "    print(ch, end='')\n",
    "print()\n"
   ]
  },
  {
   "cell_type": "code",
   "execution_count": 9,
   "metadata": {
    "id": "D3tbr_ZPVoiq"
   },
   "outputs": [
    {
     "name": "stdin",
     "output_type": "stream",
     "text": [
      "입력(후위표기):  2 1 3 + * 8 4 / -\n"
     ]
    },
    {
     "name": "stdout",
     "output_type": "stream",
     "text": [
      "토큰분리(expr):  ['2', '1', '3', '+', '*', '8', '4', '/', '-']\n",
      "\n",
      "전위 순회: ( - ( * ( 2.0 ) ( + ( 1.0 ) ( 3.0 ) ) ) ( / ( 8.0 ) ( 4.0 ) ) ) \n",
      "중위 순회: 2.0 * 1.0 + 3.0 - 8.0 / 4.0 \n",
      "후위 순회: 2.0 1.0 3.0 + * 8.0 4.0 / - \n",
      "계산 결과 :  6.0\n"
     ]
    }
   ],
   "source": [
    "#=========================================================\n",
    "# 수식 트리\n",
    "#=========================================================\n",
    "\n",
    "# 코드 4.15: 수식트리 계산 함수\n",
    "def evaluate(node) :\n",
    "    if node is None:\n",
    "        return 0\n",
    "    elif node.isLeaf():\n",
    "        return node.data\n",
    "    else:\n",
    "        # 좌우측을 먼저 계산 해줘야 한다.\n",
    "        op1=evaluate(node.left)\n",
    "        op2=evaluate(node.right)\n",
    "        if node.data == '+' : return op1 + op2\n",
    "        elif node.data == '-' : return op1 - op2\n",
    "        elif node.data == '*' : return op1 * op2\n",
    "        elif node.data == '/' : return op1 / op2\n",
    "\n",
    "# 코드 4.16: 후위표기 수식(expr)을 이용한 수식트리 2만들기\n",
    "def buildETree(expr):\n",
    "    if not expr :\n",
    "        return None\n",
    "    token = expr.pop() #stack 마지막에 들어온 오른쪽의 값을 사용하기 땨문에\n",
    "    if token in \"+-*/\" : # 문자열이 한개라도 포함되어있는지\n",
    "        node = BTNode(token) # 우선 노드를 만들어줌\n",
    "        node.right = buildETree(expr) # 재귀를 사용해서 크기를 줄여줌\n",
    "        node.left = buildETree(expr)\n",
    "        return node\n",
    "    else :\n",
    "        return BTNode(float(token))\n",
    "        \n",
    "        \n",
    "\n",
    "#=========================================================\n",
    "# 코드 4.17: 수식트리 테스트 프로그램\n",
    "str = input(\"입력(후위표기): \")\t\t# 후위표기식 입력\n",
    "expr = str.split()\t\t\t        # 토큰 리스트로 변환\n",
    "print(\"토큰분리(expr): \", expr)\n",
    "root = buildETree(expr)\t\t\t    # 후위표기 --> 수식트리\n",
    "print('\\n전위 순회: ', end=''); preorder(root)\n",
    "print('\\n중위 순회: ', end=''); inorder(root)\n",
    "print('\\n후위 순회: ', end=''); postorder(root)\n",
    "print('\\n계산 결과 : ', evaluate(root))\t# 수식트리 계산\n",
    "\n"
   ]
  },
  {
   "cell_type": "markdown",
   "metadata": {
    "id": "l3EYJ8_CtPA4"
   },
   "source": [
    "# 수식트리 수정\n",
    "- 계산기 사용법과 유사합니다잉\n"
   ]
  },
  {
   "cell_type": "code",
   "execution_count": 6,
   "metadata": {
    "id": "3pWc4vgEwE36"
   },
   "outputs": [
    {
     "name": "stdin",
     "output_type": "stream",
     "text": [
      "입력(중위표기):  3 + 5 * ( 2 - 8 )\n"
     ]
    },
    {
     "name": "stdout",
     "output_type": "stream",
     "text": [
      "후위표기식:  ['3', '5', '2', '8', '-', '*', '+']\n",
      "\n",
      "전위 순회: ( + ( 3.0 ) ( * ( 5.0 ) ( - ( 2.0 ) ( 8.0 ) ) ) ) \n",
      "중위 순회: 3.0 + 5.0 * 2.0 - 8.0 \n",
      "후위 순회: 3.0 5.0 2.0 8.0 - * + \n",
      "계산 결과 :  -27.0\n"
     ]
    }
   ],
   "source": [
    "# 연산자 우선순위를 정의하는 함수\n",
    "def prededence(op):\n",
    "    if op == '+' or op == '-':\n",
    "        return 1\n",
    "    if op == '*' or op == '/':\n",
    "        return 2\n",
    "    return 0\n",
    "\"\"\"# 출력에 팔한 리스트 -> 숫자를 만나면 리스트에 추가\n",
    "# 괄호를 저장하기 위해 필요한 스택 -> 연산자나 \"\"\"\n",
    "\n",
    "# 중위표기식을 후위표기식으로 변환하는 함수\n",
    "def infixToPostfix(expr):\n",
    "    stack = []\n",
    "    result = []\n",
    "    for char in expr:\n",
    "        if char.isnumeric():\n",
    "            result.append(char)\n",
    "        elif char == '(':\n",
    "            stack.append(char)\n",
    "        elif char == ')':\n",
    "            while stack and stack[-1] != '(':\n",
    "                result.append(stack.pop())\n",
    "            stack.pop() # '(' 를 제거하는것\n",
    "        else: #연산자\n",
    "            while stack and prededence(char) <= prededence(stack[-1]):\n",
    "                result.append(stack.pop())\n",
    "            stack.append(char)\n",
    "    while stack: # 스택에 남아 있는 결과가 없다면 연산자를 결과 리스트에 넣는다.\n",
    "        result.append(stack.pop())\n",
    "    return result\n",
    "#=========================================================\n",
    "# 수식트리 계산 함수\n",
    "def evaluate(node):\n",
    "    if node is None:\n",
    "        return 0\n",
    "    elif node.isLeaf():\n",
    "        return node.data\n",
    "    else:\n",
    "        op1 = evaluate(node.left)\n",
    "        op2 = evaluate(node.right)\n",
    "        if node.data == '+': return op1 + op2\n",
    "        elif node.data == '-': return op1 - op2\n",
    "        elif node.data == '*': return op1 * op2\n",
    "        elif node.data == '/': return op1 / op2\n",
    "\n",
    "# 후위표기 수식을 이용한 수식트리 만들기 : 반복 구조\n",
    "def buildETree_1(expr):\n",
    "    stack = []\n",
    "    for token in expr:\n",
    "        if token in \"+-*/\":\n",
    "            node = BTNode(token)\n",
    "            node.right = stack.pop()\n",
    "            node.left = stack.pop()\n",
    "            stack.append(node)\n",
    "        else:\n",
    "            stack.append(BTNode(float(token)))\n",
    "    return stack[-1]\n",
    "\n",
    "def buildETree_2(expr): # 재귀적 구조\n",
    "    if not expr:\n",
    "        return None\n",
    "    token = expr.pop()  # 후위표기식에서 마지막 토큰을 가져옴\n",
    "\n",
    "    if token in \"+-*/\":  # 연산자인 경우\n",
    "        node = BTNode(token)\n",
    "        node.right = buildETree_2(expr)  # 오른쪽 서브트리 생성\n",
    "        node.left = buildETree_2(expr)   # 왼쪽 서브트리 생성\n",
    "        return node\n",
    "    else:  # 숫자인 경우 (리프 노드)\n",
    "        return BTNode(float(token))\n",
    "\n",
    "#=========================================================\n",
    "# 수식트리 테스트 프로그램\n",
    "str_input = input(\"입력(중위표기): \")  # 중위표기식 입력\n",
    "expr = str_input.split()               # 토큰 리스트로 변환\n",
    "postfix_expr = infixToPostfix(expr)  # 중위표기식을 후위표기식으로 변환\n",
    "print(\"후위표기식: \", postfix_expr)\n",
    "\n",
    "root = buildETree_2(postfix_expr)  # 후위표기식 --> 수식트리\n",
    "print('\\n전위 순회: ', end=''); preorder(root)\n",
    "print('\\n중위 순회: ', end=''); inorder(root)\n",
    "print('\\n후위 순회: ', end=''); postorder(root)\n",
    "print('\\n계산 결과 : ', evaluate(root))  # 수식트리 계산\n"
   ]
  },
  {
   "cell_type": "markdown",
   "metadata": {
    "id": "0L6bD933hGzF"
   },
   "source": [
    "# 5장 알고리즘 개요"
   ]
  },
  {
   "cell_type": "code",
   "execution_count": 8,
   "metadata": {
    "colab": {
     "base_uri": "https://localhost:8080/"
    },
    "id": "R8C4zh12V_HJ",
    "outputId": "047ebb27-4a9b-4e24-de38-3000d4c2bf46"
   },
   "outputs": [
    {
     "name": "stdout",
     "output_type": "stream",
     "text": [
      "[496 728 628  27 908 208 547 952 356 439 984 308 457 403 954  38 346 890\n",
      "  87 691 488 899  84 329 253 208  84 320 461 654 281 957 108 320 439 989\n",
      " 659 842 648 636 416 740 144 588 571 152 177 211 992 384 832 501 246 121\n",
      " 576 199 409  69 536 264 599 781   9 681 749 868 527 727 147 556 504 219\n",
      " 788  42 323  44 843 599 326 941 948 586 513 502 831 986 696 411 472 865\n",
      " 935 744 260 908 984 952 866 380 765 700]\n",
      "find_max:  992\n",
      "find_key:  0\n",
      "find_key:  -1\n"
     ]
    }
   ],
   "source": [
    "#=========================================================\n",
    "# 코드 5.8: 리스트에서 최댓값을 찾는 알고리즘\n",
    "def find_max( A ):\n",
    "    n = len(A)              # 입력의 크기\n",
    "    max = A[0]              # max 초기화\n",
    "    for i in range(n) :     # 반복 제어부\n",
    "        if A[i] > max :     # 반복문 내부 -> n번 반복(가장 많이 처리)\n",
    "            max = A[i]\n",
    "    return max              # 결과 반환\n",
    "\n",
    "#=========================================================\n",
    "# 코드 5.9: 리스트에서 어떤 값을 찾는 알고리즘\n",
    "def find_key( A, key ):\n",
    "    n = len(A)              # 입력의 크기\n",
    "    for i in range(n) :     # 반복 제어부\n",
    "        if A[i] == key :    # 탐색 성공 --> 인덱스 반환\n",
    "            return i\n",
    "    return -1               # 탐색 실패 --> -1 반환\n",
    "\n",
    "######################################\n",
    "# 테스트 프로그램\n",
    "import numpy as np\n",
    "array = np.random.randint(0, 1000, 100)\n",
    "print(array)\n",
    "print(\"find_max: \", find_max(array))\n",
    "print(\"find_key: \", find_key(array, array[0]))\n",
    "print(\"find_key: \", find_key(array, 10001))"
   ]
  },
  {
   "cell_type": "markdown",
   "metadata": {
    "id": "PfH7v29-WZsx"
   },
   "source": [
    "강의실 잘 찾아가기 \n"
   ]
  }
 ],
 "metadata": {
  "colab": {
   "provenance": []
  },
  "kernelspec": {
   "display_name": "Python 3 (ipykernel)",
   "language": "python",
   "name": "python3"
  },
  "language_info": {
   "codemirror_mode": {
    "name": "ipython",
    "version": 3
   },
   "file_extension": ".py",
   "mimetype": "text/x-python",
   "name": "python",
   "nbconvert_exporter": "python",
   "pygments_lexer": "ipython3",
   "version": "3.11.8"
  }
 },
 "nbformat": 4,
 "nbformat_minor": 4
}
